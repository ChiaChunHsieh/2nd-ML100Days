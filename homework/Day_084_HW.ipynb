{
 "cells": [
  {
   "cell_type": "markdown",
   "metadata": {},
   "source": [
    "## Work\n",
    "### 請結合前面的知識與程式碼，比較不同的 regularization 的組合對訓練的結果與影響：如 dropout, regularizers, batch-normalization 等"
   ]
  },
  {
   "cell_type": "code",
   "execution_count": 1,
   "metadata": {},
   "outputs": [
    {
     "name": "stderr",
     "output_type": "stream",
     "text": [
      "Using TensorFlow backend.\n"
     ]
    }
   ],
   "source": [
    "import os\n",
    "import keras\n",
    "import itertools\n",
    "# Disable GPU\n",
    "os.environ[\"CUDA_VISIBLE_DEVICES\"] = \"\""
   ]
  },
  {
   "cell_type": "code",
   "execution_count": 2,
   "metadata": {},
   "outputs": [],
   "source": [
    "train, test = keras.datasets.cifar10.load_data()"
   ]
  },
  {
   "cell_type": "code",
   "execution_count": 3,
   "metadata": {},
   "outputs": [],
   "source": [
    "## 資料前處理\n",
    "def preproc_x(x, flatten=True):\n",
    "    x = x / 255.\n",
    "    if flatten:\n",
    "        x = x.reshape((len(x), -1))\n",
    "    return x\n",
    "\n",
    "def preproc_y(y, num_classes=10):\n",
    "    if y.shape[-1] == 1:\n",
    "        y = keras.utils.to_categorical(y, num_classes)\n",
    "    return y    "
   ]
  },
  {
   "cell_type": "code",
   "execution_count": 4,
   "metadata": {},
   "outputs": [],
   "source": [
    "x_train, y_train = train\n",
    "x_test, y_test = test\n",
    "\n",
    "# Preproc the inputs\n",
    "x_train = preproc_x(x_train)\n",
    "x_test = preproc_x(x_test)\n",
    "\n",
    "# Preprc the outputs\n",
    "y_train = preproc_y(y_train)\n",
    "y_test = preproc_y(y_test)"
   ]
  },
  {
   "cell_type": "code",
   "execution_count": 5,
   "metadata": {},
   "outputs": [],
   "source": [
    "from keras.layers import Dropout, BatchNormalization\n",
    "from keras.regularizers import l1, l2, l1_l2\n",
    "\n",
    "def build_mlp(input_shape, output_units=10, num_neurons=[256, 128], drp_ratio=0.2, l1_ratio=1e-4, l2_ratio=1e-4):\n",
    "    \"\"\"Code Here\n",
    "    建立你的神經網路\n",
    "    \"\"\"\n",
    "    input_layer = keras.layers.Input(input_shape)\n",
    "    \n",
    "    for i, n_units in enumerate(num_neurons):\n",
    "        if i == 0:\n",
    "            x = keras.layers.Dense(units=n_units, \n",
    "                                   activation=\"relu\", \n",
    "                                   name=\"hidden_layer\"+str(i+1),\n",
    "                                   kernel_regularizer=l1_l2(l1_ratio, l2_ratio))(input_layer)\n",
    "            x = Dropout(drp_ratio)(x)\n",
    "            x = BatchNormalization()(x)\n",
    "        else:\n",
    "            x = keras.layers.Dense(units=n_units, \n",
    "                                   activation=\"relu\", \n",
    "                                   name=\"hidden_layer\"+str(i+1),\n",
    "                                   kernel_regularizer=l1_l2(l1_ratio, l2_ratio))(x)\n",
    "            x = Dropout(drp_ratio)(x)\n",
    "            x = BatchNormalization()(x)\n",
    "    \n",
    "    out = keras.layers.Dense(units=output_units, activation=\"softmax\", name=\"output\")(x)\n",
    "    \n",
    "    model = keras.models.Model(inputs=[input_layer], outputs=[out])\n",
    "    return model"
   ]
  },
  {
   "cell_type": "code",
   "execution_count": 6,
   "metadata": {},
   "outputs": [],
   "source": [
    "\"\"\"Code Here\n",
    "設定超參數\n",
    "\"\"\"\n",
    "LEARNING_RATE = 1e-3\n",
    "EPOCHS = 50\n",
    "BATCH_SIZE = 256\n",
    "MOMENTUM = 0.95\n",
    "Dropout_EXP = 0.5"
   ]
  },
  {
   "cell_type": "code",
   "execution_count": 7,
   "metadata": {
    "scrolled": true
   },
   "outputs": [
    {
     "name": "stdout",
     "output_type": "stream",
     "text": [
      "WARNING:tensorflow:From C:\\Users\\user\\Anaconda3\\envs\\tensorflow_ML100\\lib\\site-packages\\tensorflow\\python\\framework\\op_def_library.py:263: colocate_with (from tensorflow.python.framework.ops) is deprecated and will be removed in a future version.\n",
      "Instructions for updating:\n",
      "Colocations handled automatically by placer.\n",
      "WARNING:tensorflow:From C:\\Users\\user\\Anaconda3\\envs\\tensorflow_ML100\\lib\\site-packages\\keras\\backend\\tensorflow_backend.py:3445: calling dropout (from tensorflow.python.ops.nn_ops) with keep_prob is deprecated and will be removed in a future version.\n",
      "Instructions for updating:\n",
      "Please use `rate` instead of `keep_prob`. Rate should be set to `rate = 1 - keep_prob`.\n",
      "_________________________________________________________________\n",
      "Layer (type)                 Output Shape              Param #   \n",
      "=================================================================\n",
      "input_1 (InputLayer)         (None, 3072)              0         \n",
      "_________________________________________________________________\n",
      "hidden_layer1 (Dense)        (None, 256)               786688    \n",
      "_________________________________________________________________\n",
      "dropout_1 (Dropout)          (None, 256)               0         \n",
      "_________________________________________________________________\n",
      "batch_normalization_1 (Batch (None, 256)               1024      \n",
      "_________________________________________________________________\n",
      "hidden_layer2 (Dense)        (None, 128)               32896     \n",
      "_________________________________________________________________\n",
      "dropout_2 (Dropout)          (None, 128)               0         \n",
      "_________________________________________________________________\n",
      "batch_normalization_2 (Batch (None, 128)               512       \n",
      "_________________________________________________________________\n",
      "output (Dense)               (None, 10)                1290      \n",
      "=================================================================\n",
      "Total params: 822,410\n",
      "Trainable params: 821,642\n",
      "Non-trainable params: 768\n",
      "_________________________________________________________________\n",
      "WARNING:tensorflow:From C:\\Users\\user\\Anaconda3\\envs\\tensorflow_ML100\\lib\\site-packages\\tensorflow\\python\\ops\\math_ops.py:3066: to_int32 (from tensorflow.python.ops.math_ops) is deprecated and will be removed in a future version.\n",
      "Instructions for updating:\n",
      "Use tf.cast instead.\n",
      "Train on 50000 samples, validate on 10000 samples\n",
      "Epoch 1/50\n",
      "50000/50000 [==============================] - 15s 301us/step - loss: 3.7482 - acc: 0.2143 - val_loss: 3.1211 - val_acc: 0.2136\n",
      "Epoch 2/50\n",
      "50000/50000 [==============================] - 11s 213us/step - loss: 2.7591 - acc: 0.2629 - val_loss: 2.4414 - val_acc: 0.3049\n",
      "Epoch 3/50\n",
      "50000/50000 [==============================] - 12s 245us/step - loss: 2.3744 - acc: 0.2847 - val_loss: 2.2602 - val_acc: 0.3090\n",
      "Epoch 4/50\n",
      "50000/50000 [==============================] - 11s 221us/step - loss: 2.2513 - acc: 0.2885 - val_loss: 2.1994 - val_acc: 0.2815\n",
      "Epoch 5/50\n",
      "50000/50000 [==============================] - 11s 227us/step - loss: 2.2107 - acc: 0.2907 - val_loss: 2.2147 - val_acc: 0.2702\n",
      "Epoch 6/50\n",
      "50000/50000 [==============================] - 11s 211us/step - loss: 2.1672 - acc: 0.2851 - val_loss: 2.1575 - val_acc: 0.2785\n",
      "Epoch 7/50\n",
      "50000/50000 [==============================] - 10s 202us/step - loss: 2.1419 - acc: 0.2826 - val_loss: 2.1209 - val_acc: 0.2789\n",
      "Epoch 8/50\n",
      "50000/50000 [==============================] - 10s 205us/step - loss: 2.1198 - acc: 0.2772 - val_loss: 2.1520 - val_acc: 0.2403\n",
      "Epoch 9/50\n",
      "50000/50000 [==============================] - 10s 206us/step - loss: 2.0842 - acc: 0.2770 - val_loss: 2.0862 - val_acc: 0.3161\n",
      "Epoch 10/50\n",
      "50000/50000 [==============================] - 10s 203us/step - loss: 2.0704 - acc: 0.2854 - val_loss: 2.0380 - val_acc: 0.2931\n",
      "Epoch 11/50\n",
      "50000/50000 [==============================] - 10s 205us/step - loss: 2.0454 - acc: 0.2826 - val_loss: 2.0304 - val_acc: 0.3106\n",
      "Epoch 12/50\n",
      "50000/50000 [==============================] - 10s 201us/step - loss: 2.0363 - acc: 0.2901 - val_loss: 2.0810 - val_acc: 0.2942\n",
      "Epoch 13/50\n",
      "50000/50000 [==============================] - 10s 205us/step - loss: 2.0266 - acc: 0.2963 - val_loss: 1.9874 - val_acc: 0.3505\n",
      "Epoch 14/50\n",
      "50000/50000 [==============================] - 10s 207us/step - loss: 2.0360 - acc: 0.2893 - val_loss: 2.0012 - val_acc: 0.3225\n",
      "Epoch 15/50\n",
      "50000/50000 [==============================] - 10s 202us/step - loss: 2.0114 - acc: 0.2924 - val_loss: 2.0007 - val_acc: 0.3020\n",
      "Epoch 16/50\n",
      "50000/50000 [==============================] - 10s 208us/step - loss: 2.0106 - acc: 0.2909 - val_loss: 2.0024 - val_acc: 0.3171\n",
      "Epoch 17/50\n",
      "50000/50000 [==============================] - 11s 218us/step - loss: 2.0210 - acc: 0.2947 - val_loss: 2.0887 - val_acc: 0.2553\n",
      "Epoch 18/50\n",
      "50000/50000 [==============================] - 10s 210us/step - loss: 2.0152 - acc: 0.2929 - val_loss: 2.0236 - val_acc: 0.3065\n",
      "Epoch 19/50\n",
      "50000/50000 [==============================] - 11s 212us/step - loss: 1.9881 - acc: 0.2971 - val_loss: 2.0784 - val_acc: 0.2622\n",
      "Epoch 20/50\n",
      "50000/50000 [==============================] - 11s 215us/step - loss: 2.0004 - acc: 0.2928 - val_loss: 2.0470 - val_acc: 0.3004\n",
      "Epoch 21/50\n",
      "50000/50000 [==============================] - 10s 209us/step - loss: 1.9933 - acc: 0.2982 - val_loss: 2.0720 - val_acc: 0.2993\n",
      "Epoch 22/50\n",
      "50000/50000 [==============================] - 11s 212us/step - loss: 1.9973 - acc: 0.2930 - val_loss: 2.0277 - val_acc: 0.2988\n",
      "Epoch 23/50\n",
      "50000/50000 [==============================] - 11s 210us/step - loss: 2.0009 - acc: 0.2902 - val_loss: 2.0116 - val_acc: 0.3186\n",
      "Epoch 24/50\n",
      "50000/50000 [==============================] - 10s 210us/step - loss: 2.0074 - acc: 0.2875 - val_loss: 2.0745 - val_acc: 0.2969\n",
      "Epoch 25/50\n",
      "50000/50000 [==============================] - 11s 213us/step - loss: 1.9977 - acc: 0.2855 - val_loss: 1.9988 - val_acc: 0.3061\n",
      "Epoch 26/50\n",
      "50000/50000 [==============================] - 11s 214us/step - loss: 2.0017 - acc: 0.2866 - val_loss: 2.0777 - val_acc: 0.2552\n",
      "Epoch 27/50\n",
      "50000/50000 [==============================] - 10s 208us/step - loss: 2.0089 - acc: 0.2852 - val_loss: 2.0832 - val_acc: 0.2899\n",
      "Epoch 28/50\n",
      "50000/50000 [==============================] - 11s 212us/step - loss: 2.0071 - acc: 0.2860 - val_loss: 2.0368 - val_acc: 0.2697\n",
      "Epoch 29/50\n",
      "50000/50000 [==============================] - 12s 232us/step - loss: 2.0001 - acc: 0.2955 - val_loss: 2.0633 - val_acc: 0.2704\n",
      "Epoch 30/50\n",
      "50000/50000 [==============================] - 13s 260us/step - loss: 2.0080 - acc: 0.2937 - val_loss: 2.0650 - val_acc: 0.2917\n",
      "Epoch 31/50\n",
      "50000/50000 [==============================] - 13s 268us/step - loss: 2.0136 - acc: 0.2905 - val_loss: 2.0713 - val_acc: 0.2789\n",
      "Epoch 32/50\n",
      "50000/50000 [==============================] - 12s 243us/step - loss: 1.9992 - acc: 0.2921 - val_loss: 2.0384 - val_acc: 0.3177\n",
      "Epoch 33/50\n",
      "50000/50000 [==============================] - 12s 235us/step - loss: 1.9879 - acc: 0.2982 - val_loss: 2.0011 - val_acc: 0.3350\n",
      "Epoch 34/50\n",
      "50000/50000 [==============================] - 11s 229us/step - loss: 1.9909 - acc: 0.2958 - val_loss: 2.0514 - val_acc: 0.2902\n",
      "Epoch 35/50\n",
      "50000/50000 [==============================] - 12s 237us/step - loss: 2.0014 - acc: 0.2924 - val_loss: 2.0747 - val_acc: 0.3013\n",
      "Epoch 36/50\n",
      "50000/50000 [==============================] - 13s 264us/step - loss: 1.9879 - acc: 0.2966 - val_loss: 2.0148 - val_acc: 0.3119\n",
      "Epoch 37/50\n",
      "50000/50000 [==============================] - 13s 267us/step - loss: 1.9842 - acc: 0.2983 - val_loss: 2.0640 - val_acc: 0.2967\n",
      "Epoch 38/50\n",
      "50000/50000 [==============================] - 13s 268us/step - loss: 2.0014 - acc: 0.2789 - val_loss: 2.0809 - val_acc: 0.2784\n",
      "Epoch 39/50\n",
      "50000/50000 [==============================] - 13s 261us/step - loss: 1.9858 - acc: 0.2945 - val_loss: 2.0551 - val_acc: 0.3087\n",
      "Epoch 40/50\n",
      "50000/50000 [==============================] - 13s 254us/step - loss: 1.9799 - acc: 0.2975 - val_loss: 2.0600 - val_acc: 0.2947\n",
      "Epoch 41/50\n",
      "50000/50000 [==============================] - 13s 253us/step - loss: 1.9929 - acc: 0.2952 - val_loss: 2.0239 - val_acc: 0.3029\n",
      "Epoch 42/50\n"
     ]
    },
    {
     "name": "stdout",
     "output_type": "stream",
     "text": [
      "50000/50000 [==============================] - 12s 239us/step - loss: 1.9892 - acc: 0.2964 - val_loss: 2.0560 - val_acc: 0.2743\n",
      "Epoch 43/50\n",
      "50000/50000 [==============================] - 12s 246us/step - loss: 1.9921 - acc: 0.2917 - val_loss: 2.0465 - val_acc: 0.2759\n",
      "Epoch 44/50\n",
      "50000/50000 [==============================] - 12s 231us/step - loss: 1.9829 - acc: 0.2987 - val_loss: 2.1068 - val_acc: 0.2567\n",
      "Epoch 45/50\n",
      "50000/50000 [==============================] - 12s 246us/step - loss: 1.9771 - acc: 0.3002 - val_loss: 2.0343 - val_acc: 0.2982\n",
      "Epoch 46/50\n",
      "50000/50000 [==============================] - 13s 251us/step - loss: 1.9735 - acc: 0.3033 - val_loss: 2.0527 - val_acc: 0.2852\n",
      "Epoch 47/50\n",
      "50000/50000 [==============================] - 11s 224us/step - loss: 1.9724 - acc: 0.3012 - val_loss: 2.0853 - val_acc: 0.2764\n",
      "Epoch 48/50\n",
      "50000/50000 [==============================] - 11s 216us/step - loss: 1.9726 - acc: 0.3012 - val_loss: 2.0438 - val_acc: 0.2850\n",
      "Epoch 49/50\n",
      "50000/50000 [==============================] - 11s 224us/step - loss: 1.9747 - acc: 0.2981 - val_loss: 2.0539 - val_acc: 0.2975\n",
      "Epoch 50/50\n",
      "50000/50000 [==============================] - 11s 219us/step - loss: 1.9682 - acc: 0.2981 - val_loss: 2.0702 - val_acc: 0.2759\n"
     ]
    }
   ],
   "source": [
    "results = {}\n",
    "\"\"\"Code Here\n",
    "撰寫你的訓練流程並將結果用 dictionary 紀錄\n",
    "\"\"\"\n",
    "model = build_mlp(input_shape=x_train.shape[1:], drp_ratio=Dropout_EXP)\n",
    "model.summary()\n",
    "optimizer = keras.optimizers.Adam(lr=LEARNING_RATE)\n",
    "model.compile(loss=\"categorical_crossentropy\", metrics=[\"accuracy\"], optimizer=optimizer)\n",
    "\n",
    "model.fit(x_train, y_train, \n",
    "          epochs=EPOCHS, \n",
    "          batch_size=BATCH_SIZE, \n",
    "          validation_data=(x_test, y_test), \n",
    "          shuffle=True)\n",
    "\n",
    "# Collect results\n",
    "train_loss = model.history.history[\"loss\"]\n",
    "valid_loss = model.history.history[\"val_loss\"]\n",
    "train_acc = model.history.history[\"acc\"]\n",
    "valid_acc = model.history.history[\"val_acc\"]"
   ]
  },
  {
   "cell_type": "code",
   "execution_count": 8,
   "metadata": {},
   "outputs": [
    {
     "data": {
      "text/plain": [
       "'Code Here\\n將結果繪出\\n'"
      ]
     },
     "execution_count": 8,
     "metadata": {},
     "output_type": "execute_result"
    }
   ],
   "source": [
    "import matplotlib.pyplot as plt\n",
    "%matplotlib inline\n",
    "\"\"\"Code Here\n",
    "將結果繪出\n",
    "\"\"\""
   ]
  },
  {
   "cell_type": "code",
   "execution_count": 9,
   "metadata": {},
   "outputs": [
    {
     "data": {
      "image/png": "[encoded data removed]",
      "text/plain": [
       "<Figure size 432x288 with 1 Axes>"
      ]
     },
     "metadata": {
      "needs_background": "light"
     },
     "output_type": "display_data"
    },
    {
     "data": {
      "image/png": "[encoded data removed]",
      "text/plain": [
       "<Figure size 432x288 with 1 Axes>"
      ]
     },
     "metadata": {
      "needs_background": "light"
     },
     "output_type": "display_data"
    }
   ],
   "source": [
    "plt.plot(range(len(train_loss)), train_loss, label=\"train loss\")\n",
    "plt.plot(range(len(valid_loss)), valid_loss, label=\"valid loss\")\n",
    "plt.legend()\n",
    "plt.title(\"Loss\")\n",
    "plt.show()\n",
    "\n",
    "plt.plot(range(len(train_acc)), train_acc, label=\"train accuracy\")\n",
    "plt.plot(range(len(valid_acc)), valid_acc, label=\"valid accuracy\")\n",
    "plt.legend()\n",
    "plt.title(\"Accuracy\")\n",
    "plt.show()"
   ]
  }
 ],
 "metadata": {
  "kernelspec": {
   "display_name": "Python 3",
   "language": "python",
   "name": "python3"
  },
  "language_info": {
   "codemirror_mode": {
    "name": "ipython",
    "version": 3
   },
   "file_extension": ".py",
   "mimetype": "text/x-python",
   "name": "python",
   "nbconvert_exporter": "python",
   "pygments_lexer": "ipython3",
   "version": "3.7.3"
  }
 },
 "nbformat": 4,
 "nbformat_minor": 2
}
