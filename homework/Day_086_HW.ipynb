{
 "cells": [
  {
   "cell_type": "markdown",
   "metadata": {},
   "source": [
    "## Work\n",
    "1. 試比較 save_best_only 與否的差異\n",
    "2. 請僅存入將 save_weights_only 設定為 True, 並嘗試 reset ipynb 並將模型與權重重新建回並預測 x_test"
   ]
  },
  {
   "cell_type": "code",
   "execution_count": 1,
   "metadata": {},
   "outputs": [
    {
     "name": "stderr",
     "output_type": "stream",
     "text": [
      "Using TensorFlow backend.\n"
     ]
    }
   ],
   "source": [
    "import os\n",
    "import keras\n",
    "\n",
    "# Disable GPU\n",
    "os.environ[\"CUDA_VISIBLE_DEVICES\"] = \"\""
   ]
  },
  {
   "cell_type": "code",
   "execution_count": 2,
   "metadata": {},
   "outputs": [],
   "source": [
    "train, test = keras.datasets.cifar10.load_data()"
   ]
  },
  {
   "cell_type": "code",
   "execution_count": 3,
   "metadata": {},
   "outputs": [],
   "source": [
    "## 資料前處理\n",
    "def preproc_x(x, flatten=True):\n",
    "    x = x / 255.\n",
    "    if flatten:\n",
    "        x = x.reshape((len(x), -1))\n",
    "    return x\n",
    "\n",
    "def preproc_y(y, num_classes=10):\n",
    "    if y.shape[-1] == 1:\n",
    "        y = keras.utils.to_categorical(y, num_classes)\n",
    "    return y    "
   ]
  },
  {
   "cell_type": "code",
   "execution_count": 4,
   "metadata": {},
   "outputs": [],
   "source": [
    "x_train, y_train = train\n",
    "x_test, y_test = test\n",
    "\n",
    "# Preproc the inputs\n",
    "x_train = preproc_x(x_train)\n",
    "x_test = preproc_x(x_test)\n",
    "\n",
    "# Preprc the outputs\n",
    "y_train = preproc_y(y_train)\n",
    "y_test = preproc_y(y_test)"
   ]
  },
  {
   "cell_type": "code",
   "execution_count": 5,
   "metadata": {},
   "outputs": [],
   "source": [
    "from keras.layers import BatchNormalization\n",
    "\n",
    "def build_mlp(input_shape, output_units=10, num_neurons=[256, 128]):\n",
    "    \"\"\"Code Here\n",
    "    建立你的神經網路\n",
    "    \"\"\"\n",
    "    input_layer = keras.layers.Input(input_shape)\n",
    "    \n",
    "    for i, n_units in enumerate(num_neurons):\n",
    "        if i == 0:\n",
    "            x = keras.layers.Dense(units=n_units, \n",
    "                                   activation=\"relu\", \n",
    "                                   name=\"hidden_layer\"+str(i+1))(input_layer)\n",
    "            x = BatchNormalization()(x)\n",
    "        else:\n",
    "            x = keras.layers.Dense(units=n_units, \n",
    "                                   activation=\"relu\", \n",
    "                                   name=\"hidden_layer\"+str(i+1))(x)\n",
    "            x = BatchNormalization()(x)\n",
    "    \n",
    "    out = keras.layers.Dense(units=output_units, activation=\"softmax\", name=\"output\")(x)\n",
    "    \n",
    "    model = keras.models.Model(inputs=[input_layer], outputs=[out])\n",
    "    return model"
   ]
  },
  {
   "cell_type": "code",
   "execution_count": 6,
   "metadata": {},
   "outputs": [],
   "source": [
    "\"\"\"Code Here\n",
    "設定超參數\n",
    "\"\"\"\n",
    "LEARNING_RATE = 1e-3\n",
    "EPOCHS = 50\n",
    "BATCH_SIZE = 1024\n",
    "MOMENTUM = 0.95"
   ]
  },
  {
   "cell_type": "code",
   "execution_count": 7,
   "metadata": {},
   "outputs": [
    {
     "name": "stdout",
     "output_type": "stream",
     "text": [
      "WARNING:tensorflow:From C:\\Users\\user\\Anaconda3\\envs\\tensorflow_ML100\\lib\\site-packages\\tensorflow\\python\\framework\\op_def_library.py:263: colocate_with (from tensorflow.python.framework.ops) is deprecated and will be removed in a future version.\n",
      "Instructions for updating:\n",
      "Colocations handled automatically by placer.\n",
      "_________________________________________________________________\n",
      "Layer (type)                 Output Shape              Param #   \n",
      "=================================================================\n",
      "input_1 (InputLayer)         (None, 3072)              0         \n",
      "_________________________________________________________________\n",
      "hidden_layer1 (Dense)        (None, 256)               786688    \n",
      "_________________________________________________________________\n",
      "batch_normalization_1 (Batch (None, 256)               1024      \n",
      "_________________________________________________________________\n",
      "hidden_layer2 (Dense)        (None, 128)               32896     \n",
      "_________________________________________________________________\n",
      "batch_normalization_2 (Batch (None, 128)               512       \n",
      "_________________________________________________________________\n",
      "output (Dense)               (None, 10)                1290      \n",
      "=================================================================\n",
      "Total params: 822,410\n",
      "Trainable params: 821,642\n",
      "Non-trainable params: 768\n",
      "_________________________________________________________________\n",
      "WARNING:tensorflow:From C:\\Users\\user\\Anaconda3\\envs\\tensorflow_ML100\\lib\\site-packages\\tensorflow\\python\\ops\\math_ops.py:3066: to_int32 (from tensorflow.python.ops.math_ops) is deprecated and will be removed in a future version.\n",
      "Instructions for updating:\n",
      "Use tf.cast instead.\n",
      "Train on 50000 samples, validate on 10000 samples\n",
      "Epoch 1/50\n",
      "50000/50000 [==============================] - 7s 133us/step - loss: 2.1651 - acc: 0.2762 - val_loss: 2.1121 - val_acc: 0.3282\n",
      "Epoch 2/50\n",
      "50000/50000 [==============================] - 5s 105us/step - loss: 1.7546 - acc: 0.3886 - val_loss: 1.8306 - val_acc: 0.3658\n",
      "Epoch 3/50\n",
      "50000/50000 [==============================] - 5s 105us/step - loss: 1.6531 - acc: 0.4214 - val_loss: 1.7059 - val_acc: 0.4002\n",
      "Epoch 4/50\n",
      "50000/50000 [==============================] - 6s 110us/step - loss: 1.5952 - acc: 0.4438 - val_loss: 1.6383 - val_acc: 0.4246\n",
      "Epoch 5/50\n",
      "50000/50000 [==============================] - 6s 112us/step - loss: 1.5530 - acc: 0.4570 - val_loss: 1.6094 - val_acc: 0.4327\n",
      "Epoch 6/50\n",
      "50000/50000 [==============================] - 6s 115us/step - loss: 1.5172 - acc: 0.4724 - val_loss: 1.6157 - val_acc: 0.4339\n",
      "Epoch 7/50\n",
      "50000/50000 [==============================] - 6s 114us/step - loss: 1.4870 - acc: 0.4814 - val_loss: 1.5721 - val_acc: 0.4478\n",
      "Epoch 8/50\n",
      "50000/50000 [==============================] - 6s 118us/step - loss: 1.4609 - acc: 0.4916 - val_loss: 1.5588 - val_acc: 0.4502\n",
      "Epoch 9/50\n",
      "50000/50000 [==============================] - 6s 124us/step - loss: 1.4373 - acc: 0.4981 - val_loss: 1.5468 - val_acc: 0.4552\n",
      "Epoch 10/50\n",
      "50000/50000 [==============================] - 6s 121us/step - loss: 1.4135 - acc: 0.5077 - val_loss: 1.5161 - val_acc: 0.4647\n",
      "Epoch 11/50\n",
      "50000/50000 [==============================] - 6s 116us/step - loss: 1.3929 - acc: 0.5150 - val_loss: 1.5132 - val_acc: 0.4634\n",
      "Epoch 12/50\n",
      "50000/50000 [==============================] - 6s 114us/step - loss: 1.3728 - acc: 0.5219 - val_loss: 1.4897 - val_acc: 0.4746\n",
      "Epoch 13/50\n",
      "50000/50000 [==============================] - 5s 106us/step - loss: 1.3546 - acc: 0.5291 - val_loss: 1.4940 - val_acc: 0.4722\n",
      "Epoch 14/50\n",
      "50000/50000 [==============================] - 5s 107us/step - loss: 1.3370 - acc: 0.5345 - val_loss: 1.4877 - val_acc: 0.4723\n",
      "Epoch 15/50\n",
      "50000/50000 [==============================] - 5s 104us/step - loss: 1.3217 - acc: 0.5408 - val_loss: 1.4758 - val_acc: 0.4780\n",
      "Epoch 16/50\n",
      "50000/50000 [==============================] - 6s 115us/step - loss: 1.3067 - acc: 0.5456 - val_loss: 1.4734 - val_acc: 0.4805\n",
      "Epoch 17/50\n",
      "50000/50000 [==============================] - 5s 101us/step - loss: 1.2909 - acc: 0.5517 - val_loss: 1.4647 - val_acc: 0.4826\n",
      "Epoch 18/50\n",
      "50000/50000 [==============================] - 6s 110us/step - loss: 1.2748 - acc: 0.5574 - val_loss: 1.4559 - val_acc: 0.4865\n",
      "Epoch 19/50\n",
      "50000/50000 [==============================] - 5s 102us/step - loss: 1.2599 - acc: 0.5637 - val_loss: 1.4553 - val_acc: 0.4908\n",
      "Epoch 20/50\n",
      "50000/50000 [==============================] - 6s 111us/step - loss: 1.2469 - acc: 0.5675 - val_loss: 1.4456 - val_acc: 0.4908\n",
      "Epoch 21/50\n",
      "50000/50000 [==============================] - 6s 127us/step - loss: 1.2342 - acc: 0.5724 - val_loss: 1.4457 - val_acc: 0.4916\n",
      "Epoch 22/50\n",
      "50000/50000 [==============================] - 6s 116us/step - loss: 1.2200 - acc: 0.5769 - val_loss: 1.4457 - val_acc: 0.4862\n",
      "Epoch 23/50\n",
      "50000/50000 [==============================] - 6s 112us/step - loss: 1.2061 - acc: 0.5827 - val_loss: 1.4486 - val_acc: 0.4898\n",
      "Epoch 24/50\n",
      "50000/50000 [==============================] - 5s 108us/step - loss: 1.1946 - acc: 0.5863 - val_loss: 1.4493 - val_acc: 0.4921\n",
      "Epoch 25/50\n",
      "50000/50000 [==============================] - 6s 124us/step - loss: 1.1811 - acc: 0.5918 - val_loss: 1.4281 - val_acc: 0.4967\n",
      "Epoch 26/50\n",
      "50000/50000 [==============================] - 6s 128us/step - loss: 1.1683 - acc: 0.5968 - val_loss: 1.4251 - val_acc: 0.4964\n",
      "Epoch 27/50\n",
      "50000/50000 [==============================] - 5s 108us/step - loss: 1.1555 - acc: 0.5990 - val_loss: 1.4287 - val_acc: 0.4941\n",
      "Epoch 28/50\n",
      "50000/50000 [==============================] - 5s 104us/step - loss: 1.1436 - acc: 0.6054 - val_loss: 1.4272 - val_acc: 0.5004\n",
      "Epoch 29/50\n",
      "50000/50000 [==============================] - 5s 100us/step - loss: 1.1307 - acc: 0.6089 - val_loss: 1.4414 - val_acc: 0.4884\n",
      "Epoch 30/50\n",
      "50000/50000 [==============================] - 5s 105us/step - loss: 1.1196 - acc: 0.6137 - val_loss: 1.4256 - val_acc: 0.4965\n",
      "Epoch 31/50\n",
      "50000/50000 [==============================] - 5s 100us/step - loss: 1.1075 - acc: 0.6187 - val_loss: 1.4235 - val_acc: 0.4987\n",
      "Epoch 32/50\n",
      "50000/50000 [==============================] - 6s 111us/step - loss: 1.0970 - acc: 0.6216 - val_loss: 1.4386 - val_acc: 0.4894\n",
      "Epoch 33/50\n",
      "50000/50000 [==============================] - 6s 113us/step - loss: 1.0842 - acc: 0.6269 - val_loss: 1.4303 - val_acc: 0.4984\n",
      "Epoch 34/50\n",
      "50000/50000 [==============================] - 5s 106us/step - loss: 1.0744 - acc: 0.6319 - val_loss: 1.4190 - val_acc: 0.5025\n",
      "Epoch 35/50\n",
      "50000/50000 [==============================] - 6s 113us/step - loss: 1.0630 - acc: 0.6352 - val_loss: 1.4519 - val_acc: 0.4963\n",
      "Epoch 36/50\n",
      "50000/50000 [==============================] - 6s 112us/step - loss: 1.0523 - acc: 0.6387 - val_loss: 1.4148 - val_acc: 0.5036\n",
      "Epoch 37/50\n",
      "50000/50000 [==============================] - 6s 117us/step - loss: 1.0401 - acc: 0.6447 - val_loss: 1.4157 - val_acc: 0.5001\n",
      "Epoch 38/50\n",
      "50000/50000 [==============================] - 6s 122us/step - loss: 1.0286 - acc: 0.6474 - val_loss: 1.4211 - val_acc: 0.5017\n",
      "Epoch 39/50\n",
      "50000/50000 [==============================] - 6s 117us/step - loss: 1.0189 - acc: 0.6508 - val_loss: 1.4305 - val_acc: 0.5031\n",
      "Epoch 40/50\n",
      "50000/50000 [==============================] - 5s 103us/step - loss: 1.0075 - acc: 0.6557 - val_loss: 1.4308 - val_acc: 0.4990\n",
      "Epoch 41/50\n",
      "50000/50000 [==============================] - 6s 115us/step - loss: 0.9958 - acc: 0.6605 - val_loss: 1.4601 - val_acc: 0.4929\n",
      "Epoch 42/50\n",
      "50000/50000 [==============================] - 5s 104us/step - loss: 0.9868 - acc: 0.6637 - val_loss: 1.4375 - val_acc: 0.4970\n",
      "Epoch 43/50\n",
      "50000/50000 [==============================] - 5s 102us/step - loss: 0.9750 - acc: 0.6689 - val_loss: 1.4315 - val_acc: 0.4947\n",
      "Epoch 44/50\n",
      "50000/50000 [==============================] - 6s 119us/step - loss: 0.9633 - acc: 0.6736 - val_loss: 1.4576 - val_acc: 0.4954\n",
      "Epoch 45/50\n",
      "50000/50000 [==============================] - 6s 114us/step - loss: 0.9548 - acc: 0.6761 - val_loss: 1.4471 - val_acc: 0.5002\n",
      "Epoch 46/50\n",
      "50000/50000 [==============================] - 5s 100us/step - loss: 0.9454 - acc: 0.6790 - val_loss: 1.4678 - val_acc: 0.4951\n",
      "Epoch 47/50\n"
     ]
    },
    {
     "name": "stdout",
     "output_type": "stream",
     "text": [
      "50000/50000 [==============================] - 5s 106us/step - loss: 0.9348 - acc: 0.6828 - val_loss: 1.4416 - val_acc: 0.5045\n",
      "Epoch 48/50\n",
      "50000/50000 [==============================] - 5s 100us/step - loss: 0.9232 - acc: 0.6865 - val_loss: 1.4553 - val_acc: 0.4977\n",
      "Epoch 49/50\n",
      "50000/50000 [==============================] - 5s 101us/step - loss: 0.9129 - acc: 0.6929 - val_loss: 1.4648 - val_acc: 0.4993\n",
      "Epoch 50/50\n",
      "50000/50000 [==============================] - 5s 103us/step - loss: 0.9036 - acc: 0.6952 - val_loss: 1.4536 - val_acc: 0.5024\n"
     ]
    }
   ],
   "source": [
    "# 載入 Callbacks\n",
    "\"\"\"Code Here\n",
    "設定 callbacks: model checkpoint\n",
    "\"\"\"\n",
    "from keras.callbacks import ModelCheckpoint\n",
    "\n",
    "model_ckpt = ModelCheckpoint(filepath=\"./tmp.h5\", \n",
    "                             monitor=\"val_loss\", \n",
    "                             save_best_only=False,\n",
    "                             save_weights_only=True)\n",
    "\n",
    "results = {}\n",
    "\"\"\"Code Here\n",
    "撰寫你的訓練流程並將結果用 dictionary 紀錄\n",
    "\"\"\"\n",
    "model = build_mlp(input_shape=x_train.shape[1:])\n",
    "model.summary()\n",
    "optimizer = keras.optimizers.SGD(lr=LEARNING_RATE, nesterov=True, momentum=MOMENTUM)\n",
    "model.compile(loss=\"categorical_crossentropy\", metrics=[\"accuracy\"], optimizer=optimizer)\n",
    "\n",
    "model.fit(x_train, y_train, \n",
    "          epochs=EPOCHS, \n",
    "          batch_size=BATCH_SIZE, \n",
    "          validation_data=(x_test, y_test), \n",
    "          shuffle=True,\n",
    "          callbacks=[model_ckpt]\n",
    "         )\n",
    "\n",
    "# Collect results\n",
    "train_loss = model.history.history[\"loss\"]\n",
    "valid_loss = model.history.history[\"val_loss\"]\n",
    "train_acc = model.history.history[\"acc\"]\n",
    "valid_acc = model.history.history[\"val_acc\"]"
   ]
  },
  {
   "cell_type": "code",
   "execution_count": 11,
   "metadata": {},
   "outputs": [
    {
     "ename": "ValueError",
     "evalue": "Cannot create group in read only mode.",
     "output_type": "error",
     "traceback": [
      "\u001b[1;31m---------------------------------------------------------------------------\u001b[0m",
      "\u001b[1;31mValueError\u001b[0m                                Traceback (most recent call last)",
      "\u001b[1;32m<ipython-input-11-7048069074b4>\u001b[0m in \u001b[0;36m<module>\u001b[1;34m\u001b[0m\n\u001b[0;32m      1\u001b[0m \u001b[1;31m# Load back\u001b[0m\u001b[1;33m\u001b[0m\u001b[1;33m\u001b[0m\u001b[1;33m\u001b[0m\u001b[0m\n\u001b[1;32m----> 2\u001b[1;33m \u001b[0mmodel\u001b[0m \u001b[1;33m=\u001b[0m \u001b[0mkeras\u001b[0m\u001b[1;33m.\u001b[0m\u001b[0mmodels\u001b[0m\u001b[1;33m.\u001b[0m\u001b[0mload_model\u001b[0m\u001b[1;33m(\u001b[0m\u001b[1;34m\"./tmp.h5\"\u001b[0m\u001b[1;33m)\u001b[0m\u001b[1;33m\u001b[0m\u001b[1;33m\u001b[0m\u001b[0m\n\u001b[0m\u001b[0;32m      3\u001b[0m \u001b[0mloss_loadback\u001b[0m\u001b[1;33m,\u001b[0m \u001b[0macc_loadback\u001b[0m \u001b[1;33m=\u001b[0m \u001b[0mmodel\u001b[0m\u001b[1;33m.\u001b[0m\u001b[0mevaluate\u001b[0m\u001b[1;33m(\u001b[0m\u001b[0mx_test\u001b[0m\u001b[1;33m,\u001b[0m \u001b[0my_test\u001b[0m\u001b[1;33m)\u001b[0m\u001b[1;33m\u001b[0m\u001b[1;33m\u001b[0m\u001b[0m\n",
      "\u001b[1;32m~\\Anaconda3\\envs\\tensorflow_ML100\\lib\\site-packages\\keras\\engine\\saving.py\u001b[0m in \u001b[0;36mload_model\u001b[1;34m(filepath, custom_objects, compile)\u001b[0m\n\u001b[0;32m    417\u001b[0m     \u001b[0mf\u001b[0m \u001b[1;33m=\u001b[0m \u001b[0mh5dict\u001b[0m\u001b[1;33m(\u001b[0m\u001b[0mfilepath\u001b[0m\u001b[1;33m,\u001b[0m \u001b[1;34m'r'\u001b[0m\u001b[1;33m)\u001b[0m\u001b[1;33m\u001b[0m\u001b[1;33m\u001b[0m\u001b[0m\n\u001b[0;32m    418\u001b[0m     \u001b[1;32mtry\u001b[0m\u001b[1;33m:\u001b[0m\u001b[1;33m\u001b[0m\u001b[1;33m\u001b[0m\u001b[0m\n\u001b[1;32m--> 419\u001b[1;33m         \u001b[0mmodel\u001b[0m \u001b[1;33m=\u001b[0m \u001b[0m_deserialize_model\u001b[0m\u001b[1;33m(\u001b[0m\u001b[0mf\u001b[0m\u001b[1;33m,\u001b[0m \u001b[0mcustom_objects\u001b[0m\u001b[1;33m,\u001b[0m \u001b[0mcompile\u001b[0m\u001b[1;33m)\u001b[0m\u001b[1;33m\u001b[0m\u001b[1;33m\u001b[0m\u001b[0m\n\u001b[0m\u001b[0;32m    420\u001b[0m     \u001b[1;32mfinally\u001b[0m\u001b[1;33m:\u001b[0m\u001b[1;33m\u001b[0m\u001b[1;33m\u001b[0m\u001b[0m\n\u001b[0;32m    421\u001b[0m         \u001b[1;32mif\u001b[0m \u001b[0mopened_new_file\u001b[0m\u001b[1;33m:\u001b[0m\u001b[1;33m\u001b[0m\u001b[1;33m\u001b[0m\u001b[0m\n",
      "\u001b[1;32m~\\Anaconda3\\envs\\tensorflow_ML100\\lib\\site-packages\\keras\\engine\\saving.py\u001b[0m in \u001b[0;36m_deserialize_model\u001b[1;34m(f, custom_objects, compile)\u001b[0m\n\u001b[0;32m    219\u001b[0m         \u001b[1;32mreturn\u001b[0m \u001b[0mobj\u001b[0m\u001b[1;33m\u001b[0m\u001b[1;33m\u001b[0m\u001b[0m\n\u001b[0;32m    220\u001b[0m \u001b[1;33m\u001b[0m\u001b[0m\n\u001b[1;32m--> 221\u001b[1;33m     \u001b[0mmodel_config\u001b[0m \u001b[1;33m=\u001b[0m \u001b[0mf\u001b[0m\u001b[1;33m[\u001b[0m\u001b[1;34m'model_config'\u001b[0m\u001b[1;33m]\u001b[0m\u001b[1;33m\u001b[0m\u001b[1;33m\u001b[0m\u001b[0m\n\u001b[0m\u001b[0;32m    222\u001b[0m     \u001b[1;32mif\u001b[0m \u001b[0mmodel_config\u001b[0m \u001b[1;32mis\u001b[0m \u001b[1;32mNone\u001b[0m\u001b[1;33m:\u001b[0m\u001b[1;33m\u001b[0m\u001b[1;33m\u001b[0m\u001b[0m\n\u001b[0;32m    223\u001b[0m         \u001b[1;32mraise\u001b[0m \u001b[0mValueError\u001b[0m\u001b[1;33m(\u001b[0m\u001b[1;34m'No model found in config.'\u001b[0m\u001b[1;33m)\u001b[0m\u001b[1;33m\u001b[0m\u001b[1;33m\u001b[0m\u001b[0m\n",
      "\u001b[1;32m~\\Anaconda3\\envs\\tensorflow_ML100\\lib\\site-packages\\keras\\utils\\io_utils.py\u001b[0m in \u001b[0;36m__getitem__\u001b[1;34m(self, attr)\u001b[0m\n\u001b[0;32m    300\u001b[0m             \u001b[1;32melse\u001b[0m\u001b[1;33m:\u001b[0m\u001b[1;33m\u001b[0m\u001b[1;33m\u001b[0m\u001b[0m\n\u001b[0;32m    301\u001b[0m                 \u001b[1;32mif\u001b[0m \u001b[0mself\u001b[0m\u001b[1;33m.\u001b[0m\u001b[0mread_only\u001b[0m\u001b[1;33m:\u001b[0m\u001b[1;33m\u001b[0m\u001b[1;33m\u001b[0m\u001b[0m\n\u001b[1;32m--> 302\u001b[1;33m                     \u001b[1;32mraise\u001b[0m \u001b[0mValueError\u001b[0m\u001b[1;33m(\u001b[0m\u001b[1;34m'Cannot create group in read only mode.'\u001b[0m\u001b[1;33m)\u001b[0m\u001b[1;33m\u001b[0m\u001b[1;33m\u001b[0m\u001b[0m\n\u001b[0m\u001b[0;32m    303\u001b[0m                 \u001b[0mval\u001b[0m \u001b[1;33m=\u001b[0m \u001b[0mH5Dict\u001b[0m\u001b[1;33m(\u001b[0m\u001b[0mself\u001b[0m\u001b[1;33m.\u001b[0m\u001b[0mdata\u001b[0m\u001b[1;33m.\u001b[0m\u001b[0mcreate_group\u001b[0m\u001b[1;33m(\u001b[0m\u001b[0mattr\u001b[0m\u001b[1;33m)\u001b[0m\u001b[1;33m)\u001b[0m\u001b[1;33m\u001b[0m\u001b[1;33m\u001b[0m\u001b[0m\n\u001b[0;32m    304\u001b[0m         \u001b[1;32mreturn\u001b[0m \u001b[0mval\u001b[0m\u001b[1;33m\u001b[0m\u001b[1;33m\u001b[0m\u001b[0m\n",
      "\u001b[1;31mValueError\u001b[0m: Cannot create group in read only mode."
     ]
    }
   ],
   "source": [
    "# Load back\n",
    "model = keras.models.load_model(\"./tmp.h5\")\n",
    "loss_loadback, acc_loadback = model.evaluate(x_test, y_test)"
   ]
  },
  {
   "cell_type": "code",
   "execution_count": 9,
   "metadata": {
    "scrolled": true
   },
   "outputs": [
    {
     "data": {
      "text/plain": [
       "'Code Here\\n將結果繪出\\n'"
      ]
     },
     "execution_count": 9,
     "metadata": {},
     "output_type": "execute_result"
    }
   ],
   "source": [
    "import matplotlib.pyplot as plt\n",
    "%matplotlib inline\n",
    "\"\"\"Code Here\n",
    "將結果繪出\n",
    "\"\"\""
   ]
  },
  {
   "cell_type": "code",
   "execution_count": 12,
   "metadata": {},
   "outputs": [
    {
     "data": {
      "image/png": "[encoded data removed]",
      "text/plain": [
       "<Figure size 432x288 with 1 Axes>"
      ]
     },
     "metadata": {
      "needs_background": "light"
     },
     "output_type": "display_data"
    },
    {
     "data": {
      "image/png": "[encoded data removed]",
      "text/plain": [
       "<Figure size 432x288 with 1 Axes>"
      ]
     },
     "metadata": {
      "needs_background": "light"
     },
     "output_type": "display_data"
    }
   ],
   "source": [
    "plt.plot(range(len(train_loss)), train_loss, label=\"train loss\")\n",
    "plt.plot(range(len(valid_loss)), valid_loss, label=\"valid loss\")\n",
    "# plt.hlines(y=loss_loadback, xmin=0, xmax=len(train_loss), colors='r', linestyles='--')\n",
    "plt.legend()\n",
    "plt.title(\"Loss\")\n",
    "plt.show()\n",
    "\n",
    "plt.plot(range(len(train_acc)), train_acc, label=\"train accuracy\")\n",
    "plt.plot(range(len(valid_acc)), valid_acc, label=\"valid accuracy\")\n",
    "# plt.hlines(y=acc_loadback, xmin=0, xmax=len(train_loss), colors='r', linestyles='--')\n",
    "plt.legend()\n",
    "plt.title(\"Accuracy\")\n",
    "plt.show()"
   ]
  }
 ],
 "metadata": {
  "kernelspec": {
   "display_name": "Python 3",
   "language": "python",
   "name": "python3"
  },
  "language_info": {
   "codemirror_mode": {
    "name": "ipython",
    "version": 3
   },
   "file_extension": ".py",
   "mimetype": "text/x-python",
   "name": "python",
   "nbconvert_exporter": "python",
   "pygments_lexer": "ipython3",
   "version": "3.7.3"
  }
 },
 "nbformat": 4,
 "nbformat_minor": 2
}
