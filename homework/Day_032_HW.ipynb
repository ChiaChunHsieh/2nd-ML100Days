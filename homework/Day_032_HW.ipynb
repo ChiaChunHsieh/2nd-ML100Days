{
 "cells": [
  {
   "cell_type": "markdown",
   "metadata": {},
   "source": [
    "## 練習時間\n",
    "相信大家目前都能夠初步了解機器學習專案的流程及步驟，今天的作業希望大家能夠看看全球機器學習巨頭們在做的機器學習專案。以 google 為例，下圖是 Google 內部專案使用機器學習的數量，隨著時間進展，現在早已超過 2000 個專案在使用 ML。"
   ]
  },
  {
   "cell_type": "markdown",
   "metadata": {},
   "source": [
    "![image](https://cdn-images-1.medium.com/max/800/1*U_L8qI8RmYS-MOBrYvXhSA.png)"
   ]
  },
  {
   "cell_type": "markdown",
   "metadata": {},
   "source": [
    "底下幫同學整理幾間知名企業的 blog 或機器學習網站 (自行搜尋也可)，請挑選一篇文章閱讀並試著回答\n",
    "1. 專案的目標？ (要解決什麼問題）\n",
    "2. 使用的技術是？ (只需知道名稱即可，例如：使用 CNN 卷積神經網路做影像分類)\n",
    "3. 資料來源？ "
   ]
  },
  {
   "cell_type": "markdown",
   "metadata": {},
   "source": [
    "- [Google AI blog](https://ai.googleblog.com/)\n",
    "- [Facebook Research blog](https://research.fb.com/blog/)\n",
    "- [Apple machine learning journal](https://machinelearning.apple.com/)\n",
    "- [機器之心](https://www.jiqizhixin.com/)\n",
    "- [雷鋒網](http://www.leiphone.com/category/ai)"
   ]
  },
  {
   "cell_type": "markdown",
   "metadata": {},
   "source": [
    "我選擇閱讀的文章為: [騰訊優圖實驗室AI手語識別研究白皮書](https://www.jiqizhixin.com/articles/2019-05-16-16)\n",
    "\n",
    "1. 專案目標:  \n",
    "聽障人士在公共服務環境中仍然面臨溝通障礙等一些亟待解決的問題，騰訊希望能開發\"AI手語翻譯機\"幫助聽障人士解決生活上溝通的問題。\n",
    "\n",
    "2. 使用的技術:  \n",
    "通過2D卷積網絡來提取手語中的手勢和身體姿勢等靜態信息，同時通過3D卷積網絡來提取手語中普遍存在的細微而快速的變換動作的動態信息，最後將這兩個信息相結合，產生我們最後的特徵表達。\n",
    "\n",
    "3. 資料來源:  \n",
    "通過與社會相關機構和聽障人士的接觸了解了手語表達的特點，並根據這些特點採集了自己的手語識別數據集。"
   ]
  }
 ],
 "metadata": {
  "kernelspec": {
   "display_name": "Python 3",
   "language": "python",
   "name": "python3"
  },
  "language_info": {
   "codemirror_mode": {
    "name": "ipython",
    "version": 3
   },
   "file_extension": ".py",
   "mimetype": "text/x-python",
   "name": "python",
   "nbconvert_exporter": "python",
   "pygments_lexer": "ipython3",
   "version": "3.6.4"
  }
 },
 "nbformat": 4,
 "nbformat_minor": 2
}
