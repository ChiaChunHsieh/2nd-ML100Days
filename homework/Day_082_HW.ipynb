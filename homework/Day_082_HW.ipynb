{
 "cells": [
  {
   "cell_type": "markdown",
   "metadata": {},
   "source": [
    "## Work\n",
    "1. 請比較使用不同層數以及不同 Dropout rate 對訓練的效果\n",
    "2. 將 optimizer 改成使用 Adam 並加上適當的 dropout rate 檢視結果"
   ]
  },
  {
   "cell_type": "code",
   "execution_count": 1,
   "metadata": {},
   "outputs": [
    {
     "name": "stderr",
     "output_type": "stream",
     "text": [
      "Using TensorFlow backend.\n"
     ]
    }
   ],
   "source": [
    "import os\n",
    "import keras\n",
    "import itertools\n",
    "# Disable GPU\n",
    "os.environ[\"CUDA_VISIBLE_DEVICES\"] = \"\""
   ]
  },
  {
   "cell_type": "code",
   "execution_count": 2,
   "metadata": {},
   "outputs": [],
   "source": [
    "train, test = keras.datasets.cifar10.load_data()"
   ]
  },
  {
   "cell_type": "code",
   "execution_count": 3,
   "metadata": {},
   "outputs": [],
   "source": [
    "## 資料前處理\n",
    "def preproc_x(x, flatten=True):\n",
    "    x = x / 255.\n",
    "    if flatten:\n",
    "        x = x.reshape((len(x), -1))\n",
    "    return x\n",
    "\n",
    "def preproc_y(y, num_classes=10):\n",
    "    if y.shape[-1] == 1:\n",
    "        y = keras.utils.to_categorical(y, num_classes)\n",
    "    return y    "
   ]
  },
  {
   "cell_type": "code",
   "execution_count": 4,
   "metadata": {},
   "outputs": [],
   "source": [
    "x_train, y_train = train\n",
    "x_test, y_test = test\n",
    "\n",
    "# Preproc the inputs\n",
    "x_train = preproc_x(x_train)\n",
    "x_test = preproc_x(x_test)\n",
    "\n",
    "# Preprc the outputs\n",
    "y_train = preproc_y(y_train)\n",
    "y_test = preproc_y(y_test)"
   ]
  },
  {
   "cell_type": "code",
   "execution_count": 5,
   "metadata": {},
   "outputs": [],
   "source": [
    "from keras.layers import Dropout\n",
    "\n",
    "def build_mlp(input_shape, output_units=10, num_neurons=[256, 128], drp_ratio=0.2):\n",
    "    \"\"\"Code Here\n",
    "    建立你的神經網路\n",
    "    \"\"\"\n",
    "    input_layer = keras.layers.Input(input_shape)\n",
    "    \n",
    "    for i, n_units in enumerate(num_neurons):\n",
    "        if i == 0:\n",
    "            x = keras.layers.Dense(units=n_units, \n",
    "                                   activation=\"relu\", \n",
    "                                   name=\"hidden_layer\"+str(i+1))(input_layer)\n",
    "            x = Dropout(drp_ratio)(x)\n",
    "        else:\n",
    "            x = keras.layers.Dense(units=n_units, \n",
    "                                   activation=\"relu\", \n",
    "                                   name=\"hidden_layer\"+str(i+1))(x)\n",
    "            x = Dropout(drp_ratio)(x)\n",
    "    \n",
    "    out = keras.layers.Dense(units=output_units, activation=\"softmax\", name=\"output\")(x)\n",
    "    \n",
    "    model = keras.models.Model(inputs=[input_layer], outputs=[out])\n",
    "    return model"
   ]
  },
  {
   "cell_type": "code",
   "execution_count": 6,
   "metadata": {},
   "outputs": [],
   "source": [
    "\"\"\"Code Here\n",
    "設定超參數\n",
    "\"\"\"\n",
    "## 超參數設定\n",
    "LEARNING_RATE = 1e-3\n",
    "EPOCHS = 50\n",
    "BATCH_SIZE = 256\n",
    "MOMENTUM = 0.95\n",
    "Dropout_EXP = 0.5"
   ]
  },
  {
   "cell_type": "code",
   "execution_count": 7,
   "metadata": {
    "scrolled": true
   },
   "outputs": [
    {
     "name": "stdout",
     "output_type": "stream",
     "text": [
      "WARNING:tensorflow:From C:\\Users\\user\\Anaconda3\\envs\\tensorflow_ML100\\lib\\site-packages\\tensorflow\\python\\framework\\op_def_library.py:263: colocate_with (from tensorflow.python.framework.ops) is deprecated and will be removed in a future version.\n",
      "Instructions for updating:\n",
      "Colocations handled automatically by placer.\n",
      "WARNING:tensorflow:From C:\\Users\\user\\Anaconda3\\envs\\tensorflow_ML100\\lib\\site-packages\\keras\\backend\\tensorflow_backend.py:3445: calling dropout (from tensorflow.python.ops.nn_ops) with keep_prob is deprecated and will be removed in a future version.\n",
      "Instructions for updating:\n",
      "Please use `rate` instead of `keep_prob`. Rate should be set to `rate = 1 - keep_prob`.\n",
      "_________________________________________________________________\n",
      "Layer (type)                 Output Shape              Param #   \n",
      "=================================================================\n",
      "input_1 (InputLayer)         (None, 3072)              0         \n",
      "_________________________________________________________________\n",
      "hidden_layer1 (Dense)        (None, 256)               786688    \n",
      "_________________________________________________________________\n",
      "dropout_1 (Dropout)          (None, 256)               0         \n",
      "_________________________________________________________________\n",
      "hidden_layer2 (Dense)        (None, 128)               32896     \n",
      "_________________________________________________________________\n",
      "dropout_2 (Dropout)          (None, 128)               0         \n",
      "_________________________________________________________________\n",
      "output (Dense)               (None, 10)                1290      \n",
      "=================================================================\n",
      "Total params: 820,874\n",
      "Trainable params: 820,874\n",
      "Non-trainable params: 0\n",
      "_________________________________________________________________\n",
      "WARNING:tensorflow:From C:\\Users\\user\\Anaconda3\\envs\\tensorflow_ML100\\lib\\site-packages\\tensorflow\\python\\ops\\math_ops.py:3066: to_int32 (from tensorflow.python.ops.math_ops) is deprecated and will be removed in a future version.\n",
      "Instructions for updating:\n",
      "Use tf.cast instead.\n",
      "Train on 50000 samples, validate on 10000 samples\n",
      "Epoch 1/50\n",
      "50000/50000 [==============================] - 12s 231us/step - loss: 2.1900 - acc: 0.1651 - val_loss: 2.0505 - val_acc: 0.2211\n",
      "Epoch 2/50\n",
      "50000/50000 [==============================] - 9s 172us/step - loss: 2.0994 - acc: 0.1967 - val_loss: 2.0373 - val_acc: 0.2717\n",
      "Epoch 3/50\n",
      "50000/50000 [==============================] - 9s 178us/step - loss: 2.0565 - acc: 0.2153 - val_loss: 1.9513 - val_acc: 0.2956\n",
      "Epoch 4/50\n",
      "50000/50000 [==============================] - 9s 172us/step - loss: 2.0352 - acc: 0.2241 - val_loss: 1.9442 - val_acc: 0.3086\n",
      "Epoch 5/50\n",
      "50000/50000 [==============================] - 8s 155us/step - loss: 2.0253 - acc: 0.2273 - val_loss: 1.9255 - val_acc: 0.3161\n",
      "Epoch 6/50\n",
      "50000/50000 [==============================] - 8s 157us/step - loss: 2.0143 - acc: 0.2339 - val_loss: 1.9710 - val_acc: 0.2886\n",
      "Epoch 7/50\n",
      "50000/50000 [==============================] - 8s 151us/step - loss: 2.0153 - acc: 0.2365 - val_loss: 1.9514 - val_acc: 0.3143\n",
      "Epoch 8/50\n",
      "50000/50000 [==============================] - 8s 150us/step - loss: 2.0144 - acc: 0.2404 - val_loss: 1.9557 - val_acc: 0.3151\n",
      "Epoch 9/50\n",
      "50000/50000 [==============================] - 8s 151us/step - loss: 1.9985 - acc: 0.2440 - val_loss: 1.9493 - val_acc: 0.3066\n",
      "Epoch 10/50\n",
      "50000/50000 [==============================] - 8s 159us/step - loss: 1.9921 - acc: 0.2447 - val_loss: 1.9663 - val_acc: 0.3200\n",
      "Epoch 11/50\n",
      "50000/50000 [==============================] - 8s 162us/step - loss: 1.9847 - acc: 0.2535 - val_loss: 1.9389 - val_acc: 0.3199\n",
      "Epoch 12/50\n",
      "50000/50000 [==============================] - 8s 162us/step - loss: 1.9826 - acc: 0.2534 - val_loss: 1.9068 - val_acc: 0.3242\n",
      "Epoch 13/50\n",
      "50000/50000 [==============================] - 8s 155us/step - loss: 1.9772 - acc: 0.2579 - val_loss: 1.9467 - val_acc: 0.3130\n",
      "Epoch 14/50\n",
      "50000/50000 [==============================] - 8s 162us/step - loss: 1.9681 - acc: 0.2648 - val_loss: 1.9357 - val_acc: 0.3219\n",
      "Epoch 15/50\n",
      "50000/50000 [==============================] - 8s 168us/step - loss: 1.9664 - acc: 0.2633 - val_loss: 1.9228 - val_acc: 0.3260\n",
      "Epoch 16/50\n",
      "50000/50000 [==============================] - 9s 180us/step - loss: 1.9640 - acc: 0.2648 - val_loss: 1.9067 - val_acc: 0.3328\n",
      "Epoch 17/50\n",
      "50000/50000 [==============================] - 8s 170us/step - loss: 1.9647 - acc: 0.2659 - val_loss: 1.9484 - val_acc: 0.3083\n",
      "Epoch 18/50\n",
      "50000/50000 [==============================] - 8s 157us/step - loss: 1.9608 - acc: 0.2650 - val_loss: 1.9507 - val_acc: 0.3129\n",
      "Epoch 19/50\n",
      "50000/50000 [==============================] - 9s 183us/step - loss: 1.9552 - acc: 0.2690 - val_loss: 1.9233 - val_acc: 0.3339\n",
      "Epoch 20/50\n",
      "50000/50000 [==============================] - 9s 189us/step - loss: 1.9542 - acc: 0.2715 - val_loss: 1.9399 - val_acc: 0.3063\n",
      "Epoch 21/50\n",
      "50000/50000 [==============================] - 9s 182us/step - loss: 1.9481 - acc: 0.2740 - val_loss: 1.9238 - val_acc: 0.3398\n",
      "Epoch 22/50\n",
      "50000/50000 [==============================] - 8s 162us/step - loss: 1.9488 - acc: 0.2731 - val_loss: 1.9100 - val_acc: 0.3505\n",
      "Epoch 23/50\n",
      "50000/50000 [==============================] - 8s 163us/step - loss: 1.9489 - acc: 0.2719 - val_loss: 1.9280 - val_acc: 0.3355\n",
      "Epoch 24/50\n",
      "50000/50000 [==============================] - 9s 186us/step - loss: 1.9418 - acc: 0.2750 - val_loss: 1.9337 - val_acc: 0.3219\n",
      "Epoch 25/50\n",
      "50000/50000 [==============================] - 8s 157us/step - loss: 1.9431 - acc: 0.2744 - val_loss: 1.9186 - val_acc: 0.3334\n",
      "Epoch 26/50\n",
      "50000/50000 [==============================] - 8s 152us/step - loss: 1.9460 - acc: 0.2713 - val_loss: 1.9327 - val_acc: 0.3200\n",
      "Epoch 27/50\n",
      "50000/50000 [==============================] - 8s 169us/step - loss: 1.9425 - acc: 0.2741 - val_loss: 1.9363 - val_acc: 0.3273\n",
      "Epoch 28/50\n",
      "50000/50000 [==============================] - 8s 167us/step - loss: 1.9439 - acc: 0.2723 - val_loss: 1.9355 - val_acc: 0.3188\n",
      "Epoch 29/50\n",
      "50000/50000 [==============================] - 8s 167us/step - loss: 1.9403 - acc: 0.2754 - val_loss: 1.9193 - val_acc: 0.3361\n",
      "Epoch 30/50\n",
      "50000/50000 [==============================] - 8s 164us/step - loss: 1.9459 - acc: 0.2709 - val_loss: 1.9460 - val_acc: 0.3269\n",
      "Epoch 31/50\n",
      "50000/50000 [==============================] - 8s 160us/step - loss: 1.9366 - acc: 0.2769 - val_loss: 1.9423 - val_acc: 0.3110\n",
      "Epoch 32/50\n",
      "50000/50000 [==============================] - 8s 166us/step - loss: 1.9396 - acc: 0.2758 - val_loss: 1.9387 - val_acc: 0.3246\n",
      "Epoch 33/50\n",
      "50000/50000 [==============================] - 8s 158us/step - loss: 1.9366 - acc: 0.2756 - val_loss: 1.9352 - val_acc: 0.3308\n",
      "Epoch 34/50\n",
      "50000/50000 [==============================] - 8s 157us/step - loss: 1.9338 - acc: 0.2764 - val_loss: 1.9468 - val_acc: 0.3099\n",
      "Epoch 35/50\n",
      "50000/50000 [==============================] - 9s 178us/step - loss: 1.9339 - acc: 0.2790 - val_loss: 1.9057 - val_acc: 0.3332 1s - loss:\n",
      "Epoch 36/50\n",
      "50000/50000 [==============================] - 8s 169us/step - loss: 1.9377 - acc: 0.2778 - val_loss: 1.9371 - val_acc: 0.3165\n",
      "Epoch 37/50\n",
      "50000/50000 [==============================] - 8s 160us/step - loss: 1.9316 - acc: 0.2774 - val_loss: 1.9318 - val_acc: 0.3103\n",
      "Epoch 38/50\n",
      "50000/50000 [==============================] - 9s 174us/step - loss: 1.9355 - acc: 0.2763 - val_loss: 1.9520 - val_acc: 0.3092\n",
      "Epoch 39/50\n",
      "50000/50000 [==============================] - 9s 175us/step - loss: 1.9311 - acc: 0.2750 - val_loss: 1.9348 - val_acc: 0.3281\n",
      "Epoch 40/50\n",
      "50000/50000 [==============================] - 8s 161us/step - loss: 1.9336 - acc: 0.2766 - val_loss: 1.9270 - val_acc: 0.3183\n",
      "Epoch 41/50\n",
      "50000/50000 [==============================] - 9s 171us/step - loss: 1.9357 - acc: 0.2754 - val_loss: 1.9561 - val_acc: 0.3147\n",
      "Epoch 42/50\n",
      "50000/50000 [==============================] - 8s 160us/step - loss: 1.9318 - acc: 0.2802 - val_loss: 1.9269 - val_acc: 0.3121\n",
      "Epoch 43/50\n",
      "50000/50000 [==============================] - 8s 163us/step - loss: 1.9288 - acc: 0.2774 - val_loss: 1.9353 - val_acc: 0.3094\n",
      "Epoch 44/50\n"
     ]
    },
    {
     "name": "stdout",
     "output_type": "stream",
     "text": [
      "50000/50000 [==============================] - 8s 159us/step - loss: 1.9333 - acc: 0.2751 - val_loss: 1.9304 - val_acc: 0.3212\n",
      "Epoch 45/50\n",
      "50000/50000 [==============================] - 8s 155us/step - loss: 1.9261 - acc: 0.2747 - val_loss: 1.9328 - val_acc: 0.3229\n",
      "Epoch 46/50\n",
      "50000/50000 [==============================] - 8s 151us/step - loss: 1.9294 - acc: 0.2782 - val_loss: 1.9280 - val_acc: 0.3237\n",
      "Epoch 47/50\n",
      "50000/50000 [==============================] - 8s 163us/step - loss: 1.9277 - acc: 0.2789 - val_loss: 1.9121 - val_acc: 0.3147\n",
      "Epoch 48/50\n",
      "50000/50000 [==============================] - 8s 155us/step - loss: 1.9302 - acc: 0.2781 - val_loss: 1.9376 - val_acc: 0.3169\n",
      "Epoch 49/50\n",
      "50000/50000 [==============================] - 8s 151us/step - loss: 1.9281 - acc: 0.2778 - val_loss: 1.9455 - val_acc: 0.3087\n",
      "Epoch 50/50\n",
      "50000/50000 [==============================] - 8s 150us/step - loss: 1.9270 - acc: 0.2762 - val_loss: 1.9514 - val_acc: 0.3201\n"
     ]
    }
   ],
   "source": [
    "results = {}\n",
    "\"\"\"Code Here\n",
    "撰寫你的訓練流程並將結果用 dictionary 紀錄\n",
    "\"\"\"\n",
    "model = build_mlp(input_shape=x_train.shape[1:], drp_ratio=Dropout_EXP)\n",
    "model.summary()\n",
    "optimizer = keras.optimizers.Adam(lr=LEARNING_RATE)\n",
    "model.compile(loss=\"categorical_crossentropy\", metrics=[\"accuracy\"], optimizer=optimizer)\n",
    "\n",
    "model.fit(x_train, y_train, \n",
    "          epochs=EPOCHS, \n",
    "          batch_size=BATCH_SIZE, \n",
    "          validation_data=(x_test, y_test), \n",
    "          shuffle=True)\n",
    "\n",
    "# Collect results\n",
    "train_loss = model.history.history[\"loss\"]\n",
    "valid_loss = model.history.history[\"val_loss\"]\n",
    "train_acc = model.history.history[\"acc\"]\n",
    "valid_acc = model.history.history[\"val_acc\"]"
   ]
  },
  {
   "cell_type": "code",
   "execution_count": 8,
   "metadata": {},
   "outputs": [
    {
     "data": {
      "text/plain": [
       "'Code Here\\n將結果繪出\\n'"
      ]
     },
     "execution_count": 8,
     "metadata": {},
     "output_type": "execute_result"
    }
   ],
   "source": [
    "import matplotlib.pyplot as plt\n",
    "%matplotlib inline\n",
    "\"\"\"Code Here\n",
    "將結果繪出\n",
    "\"\"\""
   ]
  },
  {
   "cell_type": "code",
   "execution_count": 9,
   "metadata": {},
   "outputs": [
    {
     "data": {
      "image/png": "[encoded data removed]",
      "text/plain": [
       "<Figure size 432x288 with 1 Axes>"
      ]
     },
     "metadata": {
      "needs_background": "light"
     },
     "output_type": "display_data"
    },
    {
     "data": {
      "image/png": "[encoded data removed]",
      "text/plain": [
       "<Figure size 432x288 with 1 Axes>"
      ]
     },
     "metadata": {
      "needs_background": "light"
     },
     "output_type": "display_data"
    }
   ],
   "source": [
    "plt.plot(range(len(train_loss)), train_loss, label=\"train loss\")\n",
    "plt.plot(range(len(valid_loss)), valid_loss, label=\"valid loss\")\n",
    "plt.legend()\n",
    "plt.title(\"Loss\")\n",
    "plt.show()\n",
    "\n",
    "plt.plot(range(len(train_acc)), train_acc, label=\"train accuracy\")\n",
    "plt.plot(range(len(valid_acc)), valid_acc, label=\"valid accuracy\")\n",
    "plt.legend()\n",
    "plt.title(\"Accuracy\")\n",
    "plt.show()"
   ]
  }
 ],
 "metadata": {
  "kernelspec": {
   "display_name": "Python 3",
   "language": "python",
   "name": "python3"
  },
  "language_info": {
   "codemirror_mode": {
    "name": "ipython",
    "version": 3
   },
   "file_extension": ".py",
   "mimetype": "text/x-python",
   "name": "python",
   "nbconvert_exporter": "python",
   "pygments_lexer": "ipython3",
   "version": "3.7.3"
  }
 },
 "nbformat": 4,
 "nbformat_minor": 2
}
