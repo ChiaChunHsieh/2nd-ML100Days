{
 "cells": [
  {
   "cell_type": "markdown",
   "metadata": {},
   "source": [
    "## 練習時間\n",
    "相信大家對回歸問題及分類問題都有初步的了解。今天的作業希望大家搜尋有關 multi-label 的案例問題。下圖是電影 \"奇異博士\" 的分類。可以看到同時有 \"Action\", \"Adventure\", \"Fantasy\" 的類別存在，代表這是個多標籤的問題。 "
   ]
  },
  {
   "cell_type": "markdown",
   "metadata": {},
   "source": [
    "![image](https://cdn-images-1.medium.com/max/1000/1*r0gYXMSQf5VhdMyl2bRDyg.png)"
   ]
  },
  {
   "cell_type": "markdown",
   "metadata": {},
   "source": [
    "## 請搜尋目標為多標籤問題 (Multi-label) 的機器學習案例，了解其資料來源、目標以及評估指標為何\n",
    "## Hint: 服飾"
   ]
  },
  {
   "cell_type": "markdown",
   "metadata": {},
   "source": [
    "我搜尋到的多標籤問題為Kaggle的競賽: [Yelp Restaurant Photo Classification](https://www.kaggle.com/c/yelp-restaurant-photo-classification/overview)\n",
    "\n",
    "資料來源為Yelp社群用戶上傳之餐廳照片，用戶會在上傳照片的同時給他們一些標註\n",
    "\n",
    "目標是希望能夠過照片就知道這是一間怎麼樣的餐廳，總共有如下幾類:\n",
    "\n",
    "1. good for lunch\n",
    "2. good for dinner\n",
    "3. takes reservations\n",
    "4. outdoor seating\n",
    "5. restaurant is expensive\n",
    "6. has alcohol\n",
    "7. has table service\n",
    "8. ambience is classy\n",
    "9. good for kids\n",
    "\n",
    "一間餐廳可能屬於不只一類，因此這個案例為多標籤問題\n",
    "\n",
    "此競賽的評估指標為 Mean F1-Score "
   ]
  }
 ],
 "metadata": {
  "kernelspec": {
   "display_name": "Python 3",
   "language": "python",
   "name": "python3"
  },
  "language_info": {
   "codemirror_mode": {
    "name": "ipython",
    "version": 3
   },
   "file_extension": ".py",
   "mimetype": "text/x-python",
   "name": "python",
   "nbconvert_exporter": "python",
   "pygments_lexer": "ipython3",
   "version": "3.6.4"
  }
 },
 "nbformat": 4,
 "nbformat_minor": 2
}
