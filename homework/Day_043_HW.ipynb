{
 "cells": [
  {
   "cell_type": "markdown",
   "metadata": {},
   "source": [
    "## [作業重點]\n",
    "了解隨機森林改善了決策樹的什麼缺點？是用什麼方法改進的？"
   ]
  },
  {
   "cell_type": "markdown",
   "metadata": {},
   "source": [
    "## 作業\n",
    "\n",
    "閱讀以下兩篇文獻，了解隨機森林原理，並試著回答後續的思考問題\n",
    "- [隨機森林 (random forest) - 中文](http://hhtucode.blogspot.tw/2013/06/ml-random-forest.html)\n",
    "- [how random forest works - 英文](https://medium.com/@Synced/how-random-forest-algorithm-works-in-machine-learning-3c0fe15b6674)"
   ]
  },
  {
   "cell_type": "markdown",
   "metadata": {},
   "source": [
    "\n",
    "1. 隨機森林中的每一棵樹，是希望能夠\n",
    "\n",
    "    - 沒有任何限制，讓樹可以持續生長 (讓樹生成很深，讓模型變得複雜)\n",
    "    \n",
    "    - 不要過度生長，避免 Overfitting\n",
    "    \n",
    "    \n",
    "2. 假設總共有 N 筆資料，每棵樹用取後放回的方式抽了總共 N 筆資料生成，請問這棵樹大約使用了多少 % 不重複的原資料生成?\n",
    "hint: 0.632 bootstrap\n"
   ]
  },
  {
   "cell_type": "markdown",
   "metadata": {},
   "source": [
    "Ans:\n",
    "\n",
    "1. 沒有任何限制，讓樹可以持續生長 (讓樹生成很深，讓模型變得複雜)<br>\n",
    "目的是希望提升準確度。<br>\n",
    "Random Forest是藉由Bootstrap的手段訓練不同的樣本以及隨機抽取訓練特徵來降低overfitting的影響，並不是限制每一棵樹的生長。\n",
    "<br>\n",
    "\n",
    "2. 63.2%<br>\n",
    "每個樣本被抽中的機率為$\\frac{1}{N}$，不被抽中的機率為$1-\\frac{1}{N}$，<br>\n",
    "因此在抽完N次之後，完全沒被抽中的機率為$(1-\\frac{1}{N})^N$，<br>\n",
    "當N很大的時候\n",
    "$$\\lim_{n\\to\\infty}(1-\\frac{1}{N})^N=\\frac{1}{e}$$<br>\n",
    "因此，當bootstrap總樣本數很大的時候，任意一樣本被抽中的機率約等於$1-\\frac{1}{e}\\approx 1-\\frac{1}{2.71828}\\approx 0.632$。"
   ]
  }
 ],
 "metadata": {
  "kernelspec": {
   "display_name": "Python 3",
   "language": "python",
   "name": "python3"
  },
  "language_info": {
   "codemirror_mode": {
    "name": "ipython",
    "version": 3
   },
   "file_extension": ".py",
   "mimetype": "text/x-python",
   "name": "python",
   "nbconvert_exporter": "python",
   "pygments_lexer": "ipython3",
   "version": "3.6.4"
  }
 },
 "nbformat": 4,
 "nbformat_minor": 2
}
