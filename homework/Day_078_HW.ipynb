{
 "cells": [
  {
   "cell_type": "markdown",
   "metadata": {},
   "source": [
    "## Work\n",
    "1. 請嘗試將 preproc_x 替換成以每筆資料的 min/max 進行標準化至 -1 ~ 1 間，再進行訓練\n",
    "2. 請嘗試將 mlp 疊更深 (e.g 5~10 層)，進行訓練後觀察 learning curve 的走勢\n",
    "3. (optional) 請改用 GPU 進行訓練 (如果你有 GPU 的話)，比較使用 CPU 與 GPU 的訓練速度"
   ]
  },
  {
   "cell_type": "code",
   "execution_count": 1,
   "metadata": {},
   "outputs": [
    {
     "data": {
      "text/plain": [
       "'\\nYour code here (optional)\\n確認硬體資源\\n'"
      ]
     },
     "execution_count": 1,
     "metadata": {},
     "output_type": "execute_result"
    }
   ],
   "source": [
    "## \n",
    "\"\"\"\n",
    "Your code here (optional)\n",
    "確認硬體資源\n",
    "\"\"\"\n"
   ]
  },
  {
   "cell_type": "code",
   "execution_count": 2,
   "metadata": {},
   "outputs": [
    {
     "name": "stderr",
     "output_type": "stream",
     "text": [
      "Using TensorFlow backend.\n"
     ]
    }
   ],
   "source": [
    "import os\n",
    "import keras\n",
    "\n",
    "# 請嘗試設定 GPU：os.environ\n"
   ]
  },
  {
   "cell_type": "code",
   "execution_count": 3,
   "metadata": {},
   "outputs": [],
   "source": [
    "train, test = keras.datasets.cifar10.load_data()"
   ]
  },
  {
   "cell_type": "code",
   "execution_count": 4,
   "metadata": {},
   "outputs": [],
   "source": [
    "## 資料前處理\n",
    "\"\"\"\n",
    "Your code here\n",
    "\"\"\"\n",
    "def preproc_x(x, flatten=True):\n",
    "    x = (x-x.min()) / (x.max()-x.min()) * 2 -1\n",
    "    if flatten:\n",
    "        x = x.reshape((len(x), -1))\n",
    "    return x\n",
    "\n",
    "def preproc_y(y, num_classes=10):\n",
    "    if y.shape[-1] == 1:\n",
    "        y = keras.utils.to_categorical(y, num_classes)\n",
    "    return y    "
   ]
  },
  {
   "cell_type": "code",
   "execution_count": 5,
   "metadata": {},
   "outputs": [],
   "source": [
    "x_train, y_train = train\n",
    "x_test, y_test = test\n",
    "\n",
    "# Preproc the inputs\n",
    "x_train = preproc_x(x_train)\n",
    "x_test = preproc_x(x_test)\n",
    "\n",
    "# Preprc the outputs\n",
    "y_train = preproc_y(y_train)\n",
    "y_test = preproc_y(y_test)"
   ]
  },
  {
   "cell_type": "code",
   "execution_count": 6,
   "metadata": {},
   "outputs": [
    {
     "name": "stdout",
     "output_type": "stream",
     "text": [
      "WARNING:tensorflow:From C:\\Users\\user\\Anaconda3\\envs\\tensorflow_ML100\\lib\\site-packages\\tensorflow\\python\\framework\\op_def_library.py:263: colocate_with (from tensorflow.python.framework.ops) is deprecated and will be removed in a future version.\n",
      "Instructions for updating:\n",
      "Colocations handled automatically by placer.\n",
      "_________________________________________________________________\n",
      "Layer (type)                 Output Shape              Param #   \n",
      "=================================================================\n",
      "input_1 (InputLayer)         (None, 3072)              0         \n",
      "_________________________________________________________________\n",
      "hidden_layer1 (Dense)        (None, 512)               1573376   \n",
      "_________________________________________________________________\n",
      "hidden_layer2 (Dense)        (None, 256)               131328    \n",
      "_________________________________________________________________\n",
      "hidden_layer3 (Dense)        (None, 128)               32896     \n",
      "_________________________________________________________________\n",
      "output (Dense)               (None, 10)                1290      \n",
      "=================================================================\n",
      "Total params: 1,738,890\n",
      "Trainable params: 1,738,890\n",
      "Non-trainable params: 0\n",
      "_________________________________________________________________\n"
     ]
    }
   ],
   "source": [
    "\"\"\"Code Here\n",
    "建立你的神經網路\n",
    "\"\"\"\n",
    "def build_mlp(input_shape, output_units=10, num_neurons=[512, 256, 128]):\n",
    "    input_layer = keras.layers.Input(input_shape)\n",
    "    \n",
    "    for i, n_units in enumerate(num_neurons):\n",
    "        if i == 0:\n",
    "            x = keras.layers.Dense(units=n_units, activation=\"relu\", name=\"hidden_layer\"+str(i+1))(input_layer)\n",
    "        else:\n",
    "            x = keras.layers.Dense(units=n_units, activation=\"relu\", name=\"hidden_layer\"+str(i+1))(x)\n",
    "    \n",
    "    out = keras.layers.Dense(units=output_units, activation=\"softmax\", name=\"output\")(x)\n",
    "    \n",
    "    model = keras.models.Model(inputs=[input_layer], outputs=[out])\n",
    "    return model\n",
    "\n",
    "# Homework 1\n",
    "model = build_mlp(input_shape=x_train.shape[1:])\n",
    "model.summary()"
   ]
  },
  {
   "cell_type": "code",
   "execution_count": 7,
   "metadata": {},
   "outputs": [],
   "source": [
    "## 超參數設定\n",
    "LEARNING_RATE = 0.001\n",
    "EPOCHS = 100\n",
    "BATCH_SIZE = 256"
   ]
  },
  {
   "cell_type": "code",
   "execution_count": 8,
   "metadata": {},
   "outputs": [],
   "source": [
    "optimizer = keras.optimizers.Adam(lr=LEARNING_RATE)\n",
    "model.compile(loss=\"categorical_crossentropy\", metrics=[\"accuracy\"], optimizer=optimizer)"
   ]
  },
  {
   "cell_type": "code",
   "execution_count": 9,
   "metadata": {},
   "outputs": [
    {
     "name": "stdout",
     "output_type": "stream",
     "text": [
      "WARNING:tensorflow:From C:\\Users\\user\\Anaconda3\\envs\\tensorflow_ML100\\lib\\site-packages\\tensorflow\\python\\ops\\math_ops.py:3066: to_int32 (from tensorflow.python.ops.math_ops) is deprecated and will be removed in a future version.\n",
      "Instructions for updating:\n",
      "Use tf.cast instead.\n",
      "Train on 50000 samples, validate on 10000 samples\n",
      "Epoch 1/100\n",
      "50000/50000 [==============================] - 14s 289us/step - loss: 1.6690 - acc: 0.4069 - val_loss: 1.5302 - val_acc: 0.4532\n",
      "Epoch 2/100\n",
      "50000/50000 [==============================] - 15s 293us/step - loss: 1.4452 - acc: 0.4873 - val_loss: 1.4441 - val_acc: 0.4882\n",
      "Epoch 3/100\n",
      "50000/50000 [==============================] - 15s 292us/step - loss: 1.3198 - acc: 0.5362 - val_loss: 1.4102 - val_acc: 0.5042\n",
      "Epoch 4/100\n",
      "50000/50000 [==============================] - 14s 279us/step - loss: 1.2267 - acc: 0.5671 - val_loss: 1.3827 - val_acc: 0.5185\n",
      "Epoch 5/100\n",
      "50000/50000 [==============================] - 14s 277us/step - loss: 1.1371 - acc: 0.6012 - val_loss: 1.3693 - val_acc: 0.5279\n",
      "Epoch 6/100\n",
      "50000/50000 [==============================] - 15s 301us/step - loss: 1.0552 - acc: 0.6270 - val_loss: 1.3694 - val_acc: 0.5264\n",
      "Epoch 7/100\n",
      "50000/50000 [==============================] - 14s 271us/step - loss: 0.9749 - acc: 0.6560 - val_loss: 1.3719 - val_acc: 0.5403\n",
      "Epoch 8/100\n",
      "50000/50000 [==============================] - 14s 273us/step - loss: 0.8960 - acc: 0.6824 - val_loss: 1.4162 - val_acc: 0.5340\n",
      "Epoch 9/100\n",
      "50000/50000 [==============================] - 14s 273us/step - loss: 0.8262 - acc: 0.7098 - val_loss: 1.4597 - val_acc: 0.5330\n",
      "Epoch 10/100\n",
      "50000/50000 [==============================] - 14s 271us/step - loss: 0.7484 - acc: 0.7352 - val_loss: 1.5041 - val_acc: 0.5330\n",
      "Epoch 11/100\n",
      "50000/50000 [==============================] - 14s 274us/step - loss: 0.6806 - acc: 0.7600 - val_loss: 1.5885 - val_acc: 0.5299\n",
      "Epoch 12/100\n",
      "50000/50000 [==============================] - 14s 273us/step - loss: 0.6157 - acc: 0.7826 - val_loss: 1.6835 - val_acc: 0.5268\n",
      "Epoch 13/100\n",
      "50000/50000 [==============================] - 14s 271us/step - loss: 0.5545 - acc: 0.8031 - val_loss: 1.7101 - val_acc: 0.5373\n",
      "Epoch 14/100\n",
      "50000/50000 [==============================] - 14s 276us/step - loss: 0.4965 - acc: 0.8266 - val_loss: 1.8162 - val_acc: 0.5240\n",
      "Epoch 15/100\n",
      "50000/50000 [==============================] - 14s 276us/step - loss: 0.4560 - acc: 0.8391 - val_loss: 1.8948 - val_acc: 0.5345\n",
      "Epoch 16/100\n",
      "50000/50000 [==============================] - 14s 274us/step - loss: 0.4070 - acc: 0.8581 - val_loss: 2.0158 - val_acc: 0.5329\n",
      "Epoch 17/100\n",
      "50000/50000 [==============================] - 14s 273us/step - loss: 0.3656 - acc: 0.8711 - val_loss: 2.0822 - val_acc: 0.5309\n",
      "Epoch 18/100\n",
      "50000/50000 [==============================] - 14s 273us/step - loss: 0.3275 - acc: 0.8869 - val_loss: 2.2146 - val_acc: 0.5279\n",
      "Epoch 19/100\n",
      "50000/50000 [==============================] - 14s 273us/step - loss: 0.3037 - acc: 0.8942 - val_loss: 2.3030 - val_acc: 0.5299\n",
      "Epoch 20/100\n",
      "50000/50000 [==============================] - 14s 272us/step - loss: 0.2633 - acc: 0.9093 - val_loss: 2.3498 - val_acc: 0.5326\n",
      "Epoch 21/100\n",
      "50000/50000 [==============================] - 14s 273us/step - loss: 0.2659 - acc: 0.9076 - val_loss: 2.4977 - val_acc: 0.5266\n",
      "Epoch 22/100\n",
      "50000/50000 [==============================] - 14s 273us/step - loss: 0.2515 - acc: 0.9133 - val_loss: 2.6083 - val_acc: 0.5245\n",
      "Epoch 23/100\n",
      "50000/50000 [==============================] - 14s 273us/step - loss: 0.2213 - acc: 0.9229 - val_loss: 2.6143 - val_acc: 0.5321\n",
      "Epoch 24/100\n",
      "50000/50000 [==============================] - 14s 275us/step - loss: 0.2259 - acc: 0.9211 - val_loss: 2.7572 - val_acc: 0.5250\n",
      "Epoch 25/100\n",
      "50000/50000 [==============================] - 14s 275us/step - loss: 0.2056 - acc: 0.9303 - val_loss: 2.7864 - val_acc: 0.5300\n",
      "Epoch 26/100\n",
      "50000/50000 [==============================] - 13s 270us/step - loss: 0.1824 - acc: 0.9368 - val_loss: 2.8644 - val_acc: 0.5285\n",
      "Epoch 27/100\n",
      "50000/50000 [==============================] - 13s 255us/step - loss: 0.1959 - acc: 0.9335 - val_loss: 2.9894 - val_acc: 0.5269\n",
      "Epoch 28/100\n",
      "50000/50000 [==============================] - 13s 261us/step - loss: 0.1802 - acc: 0.9379 - val_loss: 2.9263 - val_acc: 0.5332\n",
      "Epoch 29/100\n",
      "50000/50000 [==============================] - 13s 260us/step - loss: 0.1698 - acc: 0.9409 - val_loss: 3.0292 - val_acc: 0.5344\n",
      "Epoch 30/100\n",
      "50000/50000 [==============================] - 13s 259us/step - loss: 0.1627 - acc: 0.9441 - val_loss: 3.1797 - val_acc: 0.5351\n",
      "Epoch 31/100\n",
      "50000/50000 [==============================] - 13s 258us/step - loss: 0.1594 - acc: 0.9452 - val_loss: 3.1868 - val_acc: 0.5209\n",
      "Epoch 32/100\n",
      "50000/50000 [==============================] - 13s 258us/step - loss: 0.1588 - acc: 0.9456 - val_loss: 3.1708 - val_acc: 0.5269\n",
      "Epoch 33/100\n",
      "50000/50000 [==============================] - 13s 262us/step - loss: 0.1610 - acc: 0.9455 - val_loss: 3.2119 - val_acc: 0.5268\n",
      "Epoch 34/100\n",
      "50000/50000 [==============================] - 13s 264us/step - loss: 0.1370 - acc: 0.9537 - val_loss: 3.2182 - val_acc: 0.5197\n",
      "Epoch 35/100\n",
      "50000/50000 [==============================] - 13s 262us/step - loss: 0.1465 - acc: 0.9495 - val_loss: 3.3199 - val_acc: 0.5253\n",
      "Epoch 36/100\n",
      "50000/50000 [==============================] - 13s 266us/step - loss: 0.1409 - acc: 0.9531 - val_loss: 3.3435 - val_acc: 0.5329\n",
      "Epoch 37/100\n",
      "50000/50000 [==============================] - 13s 263us/step - loss: 0.1279 - acc: 0.9561 - val_loss: 3.4401 - val_acc: 0.5283\n",
      "Epoch 38/100\n",
      "50000/50000 [==============================] - 13s 261us/step - loss: 0.1354 - acc: 0.9531 - val_loss: 3.3380 - val_acc: 0.5258\n",
      "Epoch 39/100\n",
      "50000/50000 [==============================] - 13s 262us/step - loss: 0.1443 - acc: 0.9514 - val_loss: 3.4912 - val_acc: 0.5227\n",
      "Epoch 40/100\n",
      "50000/50000 [==============================] - 13s 261us/step - loss: 0.1307 - acc: 0.9560 - val_loss: 3.5304 - val_acc: 0.5270\n",
      "Epoch 41/100\n",
      "50000/50000 [==============================] - 13s 261us/step - loss: 0.1080 - acc: 0.9643 - val_loss: 3.5509 - val_acc: 0.5290\n",
      "Epoch 42/100\n",
      "50000/50000 [==============================] - 13s 265us/step - loss: 0.1298 - acc: 0.9563 - val_loss: 3.5465 - val_acc: 0.5282\n",
      "Epoch 43/100\n",
      "50000/50000 [==============================] - 13s 264us/step - loss: 0.1259 - acc: 0.9579 - val_loss: 3.5422 - val_acc: 0.5262\n",
      "Epoch 44/100\n",
      "50000/50000 [==============================] - 13s 259us/step - loss: 0.1087 - acc: 0.9632 - val_loss: 3.6607 - val_acc: 0.5289\n",
      "Epoch 45/100\n",
      "50000/50000 [==============================] - 13s 262us/step - loss: 0.0932 - acc: 0.9682 - val_loss: 3.7337 - val_acc: 0.5289\n",
      "Epoch 46/100\n",
      "50000/50000 [==============================] - 13s 264us/step - loss: 0.1113 - acc: 0.9635 - val_loss: 3.6896 - val_acc: 0.5252\n",
      "Epoch 47/100\n",
      "50000/50000 [==============================] - 13s 263us/step - loss: 0.1306 - acc: 0.9578 - val_loss: 3.7186 - val_acc: 0.5211\n",
      "Epoch 48/100\n",
      "50000/50000 [==============================] - 13s 263us/step - loss: 0.1156 - acc: 0.9628 - val_loss: 3.7059 - val_acc: 0.5282\n",
      "Epoch 49/100\n",
      "50000/50000 [==============================] - 13s 259us/step - loss: 0.1127 - acc: 0.9629 - val_loss: 3.7553 - val_acc: 0.5271\n",
      "Epoch 50/100\n",
      "50000/50000 [==============================] - 13s 267us/step - loss: 0.1184 - acc: 0.9616 - val_loss: 3.8309 - val_acc: 0.5331\n",
      "Epoch 51/100\n",
      "50000/50000 [==============================] - 13s 261us/step - loss: 0.1181 - acc: 0.9612 - val_loss: 3.8113 - val_acc: 0.5277\n",
      "Epoch 52/100\n",
      "50000/50000 [==============================] - 13s 264us/step - loss: 0.0936 - acc: 0.9684 - val_loss: 3.8448 - val_acc: 0.5260\n",
      "Epoch 53/100\n",
      "50000/50000 [==============================] - 13s 262us/step - loss: 0.1039 - acc: 0.9653 - val_loss: 3.8283 - val_acc: 0.5254\n",
      "Epoch 54/100\n",
      "50000/50000 [==============================] - 13s 264us/step - loss: 0.0956 - acc: 0.9689 - val_loss: 3.8858 - val_acc: 0.5328\n",
      "Epoch 55/100\n",
      "50000/50000 [==============================] - 13s 264us/step - loss: 0.1126 - acc: 0.9635 - val_loss: 3.8343 - val_acc: 0.5253\n",
      "Epoch 56/100\n"
     ]
    },
    {
     "name": "stdout",
     "output_type": "stream",
     "text": [
      "50000/50000 [==============================] - 13s 258us/step - loss: 0.1024 - acc: 0.9682 - val_loss: 3.9416 - val_acc: 0.5233s: 0 - ETA: 2s - loss: 0.0987 - ac - ETA: 1s - lo\n",
      "Epoch 57/100\n",
      "50000/50000 [==============================] - 12s 245us/step - loss: 0.1096 - acc: 0.9641 - val_loss: 3.9494 - val_acc: 0.5199\n",
      "Epoch 58/100\n",
      "50000/50000 [==============================] - 12s 244us/step - loss: 0.0806 - acc: 0.9729 - val_loss: 3.9449 - val_acc: 0.5308\n",
      "Epoch 59/100\n",
      "50000/50000 [==============================] - 12s 241us/step - loss: 0.0999 - acc: 0.9681 - val_loss: 3.9546 - val_acc: 0.5189\n",
      "Epoch 60/100\n",
      "50000/50000 [==============================] - 12s 248us/step - loss: 0.0956 - acc: 0.9693 - val_loss: 3.9204 - val_acc: 0.5267\n",
      "Epoch 61/100\n",
      "50000/50000 [==============================] - 12s 248us/step - loss: 0.0916 - acc: 0.9694 - val_loss: 3.9965 - val_acc: 0.5205\n",
      "Epoch 62/100\n",
      "50000/50000 [==============================] - 12s 245us/step - loss: 0.1076 - acc: 0.9658 - val_loss: 4.0403 - val_acc: 0.5184\n",
      "Epoch 63/100\n",
      "50000/50000 [==============================] - 12s 244us/step - loss: 0.0957 - acc: 0.9695 - val_loss: 4.0087 - val_acc: 0.5219\n",
      "Epoch 64/100\n",
      "50000/50000 [==============================] - 12s 243us/step - loss: 0.0788 - acc: 0.9741 - val_loss: 4.1095 - val_acc: 0.5273: 0.0783 - acc: 0\n",
      "Epoch 65/100\n",
      "50000/50000 [==============================] - 12s 247us/step - loss: 0.0921 - acc: 0.9703 - val_loss: 4.1718 - val_acc: 0.5238\n",
      "Epoch 66/100\n",
      "50000/50000 [==============================] - 12s 248us/step - loss: 0.1166 - acc: 0.9639 - val_loss: 4.1930 - val_acc: 0.5193\n",
      "Epoch 67/100\n",
      "50000/50000 [==============================] - 12s 248us/step - loss: 0.1031 - acc: 0.9668 - val_loss: 4.1331 - val_acc: 0.5245: 0.\n",
      "Epoch 68/100\n",
      "50000/50000 [==============================] - 12s 245us/step - loss: 0.0667 - acc: 0.9787 - val_loss: 4.1230 - val_acc: 0.5295\n",
      "Epoch 69/100\n",
      "50000/50000 [==============================] - 12s 248us/step - loss: 0.0714 - acc: 0.9768 - val_loss: 4.0608 - val_acc: 0.5329\n",
      "Epoch 70/100\n",
      "50000/50000 [==============================] - 12s 249us/step - loss: 0.0574 - acc: 0.9805 - val_loss: 4.1357 - val_acc: 0.5359\n",
      "Epoch 71/100\n",
      "50000/50000 [==============================] - 12s 249us/step - loss: 0.1001 - acc: 0.9693 - val_loss: 4.1605 - val_acc: 0.5229\n",
      "Epoch 72/100\n",
      "50000/50000 [==============================] - 12s 245us/step - loss: 0.0990 - acc: 0.9693 - val_loss: 4.1257 - val_acc: 0.5246\n",
      "Epoch 73/100\n",
      "50000/50000 [==============================] - 13s 254us/step - loss: 0.0681 - acc: 0.9782 - val_loss: 4.1706 - val_acc: 0.5304\n",
      "Epoch 74/100\n",
      "50000/50000 [==============================] - 13s 260us/step - loss: 0.0603 - acc: 0.9799 - val_loss: 4.2748 - val_acc: 0.5297ss: 0.0598 - acc: 0.\n",
      "Epoch 75/100\n",
      "50000/50000 [==============================] - 12s 249us/step - loss: 0.0833 - acc: 0.9732 - val_loss: 4.3516 - val_acc: 0.5247\n",
      "Epoch 76/100\n",
      "50000/50000 [==============================] - 12s 250us/step - loss: 0.0941 - acc: 0.9713 - val_loss: 4.1401 - val_acc: 0.5360\n",
      "Epoch 77/100\n",
      "50000/50000 [==============================] - 12s 245us/step - loss: 0.0826 - acc: 0.9739 - val_loss: 4.1743 - val_acc: 0.5270\n",
      "Epoch 78/100\n",
      "50000/50000 [==============================] - 12s 250us/step - loss: 0.0826 - acc: 0.9731 - val_loss: 4.1416 - val_acc: 0.5352\n",
      "Epoch 79/100\n",
      "50000/50000 [==============================] - 12s 250us/step - loss: 0.0801 - acc: 0.9744 - val_loss: 4.2345 - val_acc: 0.5233\n",
      "Epoch 80/100\n",
      "50000/50000 [==============================] - 13s 251us/step - loss: 0.0954 - acc: 0.9701 - val_loss: 4.1987 - val_acc: 0.5297\n",
      "Epoch 81/100\n",
      "50000/50000 [==============================] - 12s 247us/step - loss: 0.0604 - acc: 0.9806 - val_loss: 4.2380 - val_acc: 0.5302\n",
      "Epoch 82/100\n",
      "50000/50000 [==============================] - 12s 247us/step - loss: 0.0551 - acc: 0.9823 - val_loss: 4.3281 - val_acc: 0.5295\n",
      "Epoch 83/100\n",
      "50000/50000 [==============================] - 13s 251us/step - loss: 0.0822 - acc: 0.9753 - val_loss: 4.2789 - val_acc: 0.5276\n",
      "Epoch 84/100\n",
      "50000/50000 [==============================] - 13s 253us/step - loss: 0.0905 - acc: 0.9713 - val_loss: 4.3282 - val_acc: 0.5254\n",
      "Epoch 85/100\n",
      "50000/50000 [==============================] - 13s 252us/step - loss: 0.0984 - acc: 0.9699 - val_loss: 4.3047 - val_acc: 0.5260\n",
      "Epoch 86/100\n",
      "50000/50000 [==============================] - 12s 247us/step - loss: 0.0854 - acc: 0.9722 - val_loss: 4.1724 - val_acc: 0.5266\n",
      "Epoch 87/100\n",
      "50000/50000 [==============================] - 13s 250us/step - loss: 0.0748 - acc: 0.9768 - val_loss: 4.3362 - val_acc: 0.5262\n",
      "Epoch 88/100\n",
      "50000/50000 [==============================] - 13s 251us/step - loss: 0.0661 - acc: 0.9786 - val_loss: 4.2248 - val_acc: 0.5327\n",
      "Epoch 89/100\n",
      "50000/50000 [==============================] - 13s 250us/step - loss: 0.0696 - acc: 0.9786 - val_loss: 4.3164 - val_acc: 0.5247\n",
      "Epoch 90/100\n",
      "50000/50000 [==============================] - 12s 247us/step - loss: 0.0732 - acc: 0.9766 - val_loss: 4.3317 - val_acc: 0.5272\n",
      "Epoch 91/100\n",
      "50000/50000 [==============================] - 12s 247us/step - loss: 0.0672 - acc: 0.9791 - val_loss: 4.3351 - val_acc: 0.5310\n",
      "Epoch 92/100\n",
      "50000/50000 [==============================] - 12s 250us/step - loss: 0.0665 - acc: 0.9794 - val_loss: 4.3933 - val_acc: 0.5249\n",
      "Epoch 93/100\n",
      "50000/50000 [==============================] - 12s 250us/step - loss: 0.0815 - acc: 0.9747 - val_loss: 4.3873 - val_acc: 0.5282\n",
      "Epoch 94/100\n",
      "50000/50000 [==============================] - 12s 250us/step - loss: 0.0745 - acc: 0.9771 - val_loss: 4.3702 - val_acc: 0.5258\n",
      "Epoch 95/100\n",
      "50000/50000 [==============================] - 12s 246us/step - loss: 0.0567 - acc: 0.9816 - val_loss: 4.4039 - val_acc: 0.53228 - \n",
      "Epoch 96/100\n",
      "50000/50000 [==============================] - 13s 250us/step - loss: 0.0538 - acc: 0.9833 - val_loss: 4.3910 - val_acc: 0.5336\n",
      "Epoch 97/100\n",
      "50000/50000 [==============================] - 12s 250us/step - loss: 0.0469 - acc: 0.9847 - val_loss: 4.4650 - val_acc: 0.5320\n",
      "Epoch 98/100\n",
      "50000/50000 [==============================] - 12s 250us/step - loss: 0.0706 - acc: 0.9774 - val_loss: 4.4705 - val_acc: 0.5226\n",
      "Epoch 99/100\n",
      "50000/50000 [==============================] - 12s 249us/step - loss: 0.0674 - acc: 0.9791 - val_loss: 4.5349 - val_acc: 0.5206\n",
      "Epoch 100/100\n",
      "50000/50000 [==============================] - 12s 248us/step - loss: 0.0805 - acc: 0.9748 - val_loss: 4.4951 - val_acc: 0.5223\n"
     ]
    },
    {
     "data": {
      "text/plain": [
       "<keras.callbacks.History at 0x1afaf1bbf28>"
      ]
     },
     "execution_count": 9,
     "metadata": {},
     "output_type": "execute_result"
    }
   ],
   "source": [
    "model.fit(x_train, y_train, \n",
    "          epochs=EPOCHS, \n",
    "          batch_size=BATCH_SIZE, \n",
    "          validation_data=(x_test, y_test), \n",
    "          shuffle=True)"
   ]
  },
  {
   "cell_type": "code",
   "execution_count": 10,
   "metadata": {},
   "outputs": [],
   "source": [
    "import matplotlib.pyplot as plt"
   ]
  },
  {
   "cell_type": "code",
   "execution_count": 11,
   "metadata": {},
   "outputs": [
    {
     "data": {
      "image/png": "[encoded data removed]",
      "text/plain": [
       "<Figure size 432x288 with 1 Axes>"
      ]
     },
     "metadata": {
      "needs_background": "light"
     },
     "output_type": "display_data"
    }
   ],
   "source": [
    "train_loss = model.history.history[\"loss\"]\n",
    "valid_loss = model.history.history[\"val_loss\"]\n",
    "\n",
    "train_acc = model.history.history[\"acc\"]\n",
    "valid_acc = model.history.history[\"val_acc\"]\n",
    "\n",
    "plt.plot(range(len(train_loss)), train_loss, label=\"train loss\")\n",
    "plt.plot(range(len(valid_loss)), valid_loss, label=\"valid loss\")\n",
    "plt.legend()\n",
    "plt.title(\"Loss\")\n",
    "plt.show()"
   ]
  },
  {
   "cell_type": "code",
   "execution_count": 12,
   "metadata": {},
   "outputs": [
    {
     "data": {
      "image/png": "[encoded data removed]",
      "text/plain": [
       "<Figure size 432x288 with 1 Axes>"
      ]
     },
     "metadata": {
      "needs_background": "light"
     },
     "output_type": "display_data"
    }
   ],
   "source": [
    "plt.plot(range(len(train_acc)), train_acc, label=\"train accuracy\")\n",
    "plt.plot(range(len(valid_acc)), valid_acc, label=\"valid accuracy\")\n",
    "plt.legend()\n",
    "plt.title(\"Accuracy\")\n",
    "plt.show()"
   ]
  },
  {
   "cell_type": "code",
   "execution_count": 13,
   "metadata": {},
   "outputs": [
    {
     "name": "stdout",
     "output_type": "stream",
     "text": [
      "_________________________________________________________________\n",
      "Layer (type)                 Output Shape              Param #   \n",
      "=================================================================\n",
      "input_2 (InputLayer)         (None, 3072)              0         \n",
      "_________________________________________________________________\n",
      "hidden_layer1 (Dense)        (None, 512)               1573376   \n",
      "_________________________________________________________________\n",
      "hidden_layer2 (Dense)        (None, 256)               131328    \n",
      "_________________________________________________________________\n",
      "hidden_layer3 (Dense)        (None, 128)               32896     \n",
      "_________________________________________________________________\n",
      "hidden_layer4 (Dense)        (None, 64)                8256      \n",
      "_________________________________________________________________\n",
      "hidden_layer5 (Dense)        (None, 32)                2080      \n",
      "_________________________________________________________________\n",
      "output (Dense)               (None, 10)                330       \n",
      "=================================================================\n",
      "Total params: 1,748,266\n",
      "Trainable params: 1,748,266\n",
      "Non-trainable params: 0\n",
      "_________________________________________________________________\n",
      "Train on 50000 samples, validate on 10000 samples\n",
      "Epoch 1/100\n",
      "50000/50000 [==============================] - 14s 276us/step - loss: 1.8483 - acc: 0.3361 - val_loss: 1.6292 - val_acc: 0.4191\n",
      "Epoch 2/100\n",
      "50000/50000 [==============================] - 13s 253us/step - loss: 1.5516 - acc: 0.4467 - val_loss: 1.5067 - val_acc: 0.4679\n",
      "Epoch 3/100\n",
      "50000/50000 [==============================] - 13s 252us/step - loss: 1.4204 - acc: 0.4956 - val_loss: 1.4418 - val_acc: 0.4916\n",
      "Epoch 4/100\n",
      "50000/50000 [==============================] - 13s 253us/step - loss: 1.3261 - acc: 0.5305 - val_loss: 1.3892 - val_acc: 0.5110\n",
      "Epoch 5/100\n",
      "50000/50000 [==============================] - 12s 248us/step - loss: 1.2437 - acc: 0.5619 - val_loss: 1.3881 - val_acc: 0.5109\n",
      "Epoch 6/100\n",
      "50000/50000 [==============================] - 13s 252us/step - loss: 1.1669 - acc: 0.5868 - val_loss: 1.3774 - val_acc: 0.5236\n",
      "Epoch 7/100\n",
      "50000/50000 [==============================] - 13s 252us/step - loss: 1.0983 - acc: 0.6081 - val_loss: 1.3723 - val_acc: 0.5322983 - acc: 0.607 - ETA: 0s - loss: 1.0986 - acc: 0.\n",
      "Epoch 8/100\n",
      "50000/50000 [==============================] - 13s 255us/step - loss: 1.0369 - acc: 0.6351 - val_loss: 1.3662 - val_acc: 0.5354\n",
      "Epoch 9/100\n",
      "50000/50000 [==============================] - 13s 253us/step - loss: 0.9711 - acc: 0.6560 - val_loss: 1.3830 - val_acc: 0.5382\n",
      "Epoch 10/100\n",
      "50000/50000 [==============================] - 12s 249us/step - loss: 0.9073 - acc: 0.6781 - val_loss: 1.4098 - val_acc: 0.5428\n",
      "Epoch 11/100\n",
      "50000/50000 [==============================] - 13s 253us/step - loss: 0.8540 - acc: 0.6985 - val_loss: 1.4634 - val_acc: 0.5385\n",
      "Epoch 12/100\n",
      "50000/50000 [==============================] - 13s 253us/step - loss: 0.7902 - acc: 0.7197 - val_loss: 1.5048 - val_acc: 0.5381\n",
      "Epoch 13/100\n",
      "50000/50000 [==============================] - 13s 253us/step - loss: 0.7464 - acc: 0.7345 - val_loss: 1.5410 - val_acc: 0.5370\n",
      "Epoch 14/100\n",
      "50000/50000 [==============================] - 13s 254us/step - loss: 0.6978 - acc: 0.7512 - val_loss: 1.5873 - val_acc: 0.5431\n",
      "Epoch 15/100\n",
      "50000/50000 [==============================] - 12s 249us/step - loss: 0.6444 - acc: 0.7702 - val_loss: 1.6185 - val_acc: 0.5416\n",
      "Epoch 16/100\n",
      "50000/50000 [==============================] - 13s 254us/step - loss: 0.5919 - acc: 0.7910 - val_loss: 1.7703 - val_acc: 0.5345\n",
      "Epoch 17/100\n",
      "50000/50000 [==============================] - 13s 254us/step - loss: 0.5614 - acc: 0.7981 - val_loss: 1.8526 - val_acc: 0.5260\n",
      "Epoch 18/100\n",
      "50000/50000 [==============================] - 13s 252us/step - loss: 0.5223 - acc: 0.8147 - val_loss: 1.8700 - val_acc: 0.5352\n",
      "Epoch 19/100\n",
      "50000/50000 [==============================] - 12s 250us/step - loss: 0.4924 - acc: 0.8257 - val_loss: 1.9506 - val_acc: 0.5325\n",
      "Epoch 20/100\n",
      "50000/50000 [==============================] - 13s 252us/step - loss: 0.4502 - acc: 0.8411 - val_loss: 2.0251 - val_acc: 0.5317\n",
      "Epoch 21/100\n",
      "50000/50000 [==============================] - 13s 252us/step - loss: 0.4292 - acc: 0.8477 - val_loss: 2.0951 - val_acc: 0.5323\n",
      "Epoch 22/100\n",
      "50000/50000 [==============================] - 13s 254us/step - loss: 0.3871 - acc: 0.8635 - val_loss: 2.2018 - val_acc: 0.5298\n",
      "Epoch 23/100\n",
      "50000/50000 [==============================] - 13s 252us/step - loss: 0.3672 - acc: 0.8713 - val_loss: 2.2276 - val_acc: 0.5232\n",
      "Epoch 24/100\n",
      "50000/50000 [==============================] - 12s 250us/step - loss: 0.3520 - acc: 0.8750 - val_loss: 2.3380 - val_acc: 0.5319\n",
      "Epoch 25/100\n",
      "50000/50000 [==============================] - 13s 254us/step - loss: 0.3180 - acc: 0.8885 - val_loss: 2.4748 - val_acc: 0.5228\n",
      "Epoch 26/100\n",
      "50000/50000 [==============================] - 13s 253us/step - loss: 0.3168 - acc: 0.8887 - val_loss: 2.5280 - val_acc: 0.5250\n",
      "Epoch 27/100\n",
      "50000/50000 [==============================] - 13s 253us/step - loss: 0.2898 - acc: 0.8979 - val_loss: 2.6776 - val_acc: 0.5289\n",
      "Epoch 28/100\n",
      "50000/50000 [==============================] - 13s 252us/step - loss: 0.2714 - acc: 0.9051 - val_loss: 2.6565 - val_acc: 0.5214\n",
      "Epoch 29/100\n",
      "50000/50000 [==============================] - 13s 250us/step - loss: 0.2554 - acc: 0.9088 - val_loss: 2.8527 - val_acc: 0.5245\n",
      "Epoch 30/100\n",
      "50000/50000 [==============================] - 13s 255us/step - loss: 0.2559 - acc: 0.9107 - val_loss: 2.7753 - val_acc: 0.5149loss: 0.2399 - acc: 0.918 -\n",
      "Epoch 31/100\n",
      "50000/50000 [==============================] - 13s 254us/step - loss: 0.2252 - acc: 0.9225 - val_loss: 2.8459 - val_acc: 0.5283\n",
      "Epoch 32/100\n",
      "50000/50000 [==============================] - 13s 258us/step - loss: 0.2204 - acc: 0.9250 - val_loss: 2.9549 - val_acc: 0.5254\n",
      "Epoch 33/100\n",
      "50000/50000 [==============================] - 13s 254us/step - loss: 0.2223 - acc: 0.9234 - val_loss: 2.9862 - val_acc: 0.5175\n",
      "Epoch 34/100\n",
      "50000/50000 [==============================] - 13s 251us/step - loss: 0.2108 - acc: 0.9265 - val_loss: 3.0708 - val_acc: 0.5162\n",
      "Epoch 35/100\n",
      "50000/50000 [==============================] - 13s 255us/step - loss: 0.1860 - acc: 0.9366 - val_loss: 3.1495 - val_acc: 0.5248\n",
      "Epoch 36/100\n",
      "50000/50000 [==============================] - 13s 255us/step - loss: 0.1932 - acc: 0.9330 - val_loss: 3.2181 - val_acc: 0.5178\n",
      "Epoch 37/100\n",
      "50000/50000 [==============================] - 13s 260us/step - loss: 0.1831 - acc: 0.9375 - val_loss: 3.2845 - val_acc: 0.5206\n",
      "Epoch 38/100\n",
      "50000/50000 [==============================] - 13s 256us/step - loss: 0.1720 - acc: 0.9411 - val_loss: 3.2700 - val_acc: 0.5147\n",
      "Epoch 39/100\n",
      "50000/50000 [==============================] - 13s 253us/step - loss: 0.1638 - acc: 0.9440 - val_loss: 3.2539 - val_acc: 0.5224\n",
      "Epoch 40/100\n",
      "50000/50000 [==============================] - 13s 269us/step - loss: 0.1852 - acc: 0.9368 - val_loss: 3.3660 - val_acc: 0.5158\n",
      "Epoch 41/100\n",
      "50000/50000 [==============================] - 13s 257us/step - loss: 0.1320 - acc: 0.9549 - val_loss: 3.5037 - val_acc: 0.5228\n",
      "Epoch 42/100\n",
      "50000/50000 [==============================] - 13s 254us/step - loss: 0.1532 - acc: 0.9480 - val_loss: 3.4778 - val_acc: 0.5173\n",
      "Epoch 43/100\n",
      "50000/50000 [==============================] - 13s 251us/step - loss: 0.1736 - acc: 0.9420 - val_loss: 3.3907 - val_acc: 0.5223\n",
      "Epoch 44/100\n",
      "50000/50000 [==============================] - 12s 250us/step - loss: 0.1332 - acc: 0.9553 - val_loss: 3.5226 - val_acc: 0.5253\n",
      "Epoch 45/100\n",
      "50000/50000 [==============================] - 13s 253us/step - loss: 0.1530 - acc: 0.9480 - val_loss: 3.5408 - val_acc: 0.5174\n",
      "Epoch 46/100\n",
      "50000/50000 [==============================] - 13s 252us/step - loss: 0.1453 - acc: 0.9502 - val_loss: 3.5346 - val_acc: 0.5247\n",
      "Epoch 47/100\n",
      "50000/50000 [==============================] - 13s 253us/step - loss: 0.1357 - acc: 0.9548 - val_loss: 3.4998 - val_acc: 0.5226\n",
      "Epoch 48/100\n",
      "50000/50000 [==============================] - 12s 249us/step - loss: 0.1227 - acc: 0.9595 - val_loss: 3.6404 - val_acc: 0.5294\n",
      "Epoch 49/100\n"
     ]
    },
    {
     "name": "stdout",
     "output_type": "stream",
     "text": [
      "50000/50000 [==============================] - 12s 246us/step - loss: 0.1351 - acc: 0.9546 - val_loss: 3.5290 - val_acc: 0.5212\n",
      "Epoch 50/100\n",
      "50000/50000 [==============================] - 12s 248us/step - loss: 0.1194 - acc: 0.9606 - val_loss: 3.6951 - val_acc: 0.5252\n",
      "Epoch 51/100\n",
      "50000/50000 [==============================] - 12s 247us/step - loss: 0.1406 - acc: 0.9531 - val_loss: 3.5934 - val_acc: 0.5228\n",
      "Epoch 52/100\n",
      "50000/50000 [==============================] - 12s 247us/step - loss: 0.1153 - acc: 0.9611 - val_loss: 3.7216 - val_acc: 0.5191\n",
      "Epoch 53/100\n",
      "50000/50000 [==============================] - 12s 245us/step - loss: 0.1159 - acc: 0.9605 - val_loss: 3.7189 - val_acc: 0.5200\n",
      "Epoch 54/100\n",
      "50000/50000 [==============================] - 13s 250us/step - loss: 0.1030 - acc: 0.9654 - val_loss: 3.8431 - val_acc: 0.5181\n",
      "Epoch 55/100\n",
      "50000/50000 [==============================] - 13s 251us/step - loss: 0.1275 - acc: 0.9571 - val_loss: 3.7299 - val_acc: 0.5226\n",
      "Epoch 56/100\n",
      "50000/50000 [==============================] - 12s 249us/step - loss: 0.1260 - acc: 0.9580 - val_loss: 3.7277 - val_acc: 0.5183\n",
      "Epoch 57/100\n",
      "50000/50000 [==============================] - 12s 246us/step - loss: 0.1000 - acc: 0.9668 - val_loss: 3.8214 - val_acc: 0.5208\n",
      "Epoch 58/100\n",
      "50000/50000 [==============================] - 12s 249us/step - loss: 0.0977 - acc: 0.9675 - val_loss: 3.8941 - val_acc: 0.5282\n",
      "Epoch 59/100\n",
      "50000/50000 [==============================] - 12s 249us/step - loss: 0.1170 - acc: 0.9609 - val_loss: 3.7388 - val_acc: 0.5231\n",
      "Epoch 60/100\n",
      "50000/50000 [==============================] - 12s 250us/step - loss: 0.1164 - acc: 0.9616 - val_loss: 3.8423 - val_acc: 0.5202\n",
      "Epoch 61/100\n",
      "50000/50000 [==============================] - 12s 248us/step - loss: 0.1039 - acc: 0.9655 - val_loss: 3.8868 - val_acc: 0.5230\n",
      "Epoch 62/100\n",
      "50000/50000 [==============================] - 12s 248us/step - loss: 0.0831 - acc: 0.9729 - val_loss: 3.9751 - val_acc: 0.5250\n",
      "Epoch 63/100\n",
      "50000/50000 [==============================] - 12s 250us/step - loss: 0.1066 - acc: 0.9656 - val_loss: 3.8705 - val_acc: 0.5153\n",
      "Epoch 64/100\n",
      "50000/50000 [==============================] - 12s 249us/step - loss: 0.1104 - acc: 0.9637 - val_loss: 3.8093 - val_acc: 0.5250\n",
      "Epoch 65/100\n",
      "50000/50000 [==============================] - 13s 251us/step - loss: 0.0876 - acc: 0.9719 - val_loss: 3.9824 - val_acc: 0.5189\n",
      "Epoch 66/100\n",
      "50000/50000 [==============================] - 12s 247us/step - loss: 0.1170 - acc: 0.9627 - val_loss: 3.8044 - val_acc: 0.5219\n",
      "Epoch 67/100\n",
      "50000/50000 [==============================] - 12s 250us/step - loss: 0.0806 - acc: 0.9734 - val_loss: 3.9636 - val_acc: 0.5251\n",
      "Epoch 68/100\n",
      "50000/50000 [==============================] - 13s 253us/step - loss: 0.1143 - acc: 0.9617 - val_loss: 3.8123 - val_acc: 0.5245\n",
      "Epoch 69/100\n",
      "50000/50000 [==============================] - 13s 253us/step - loss: 0.0868 - acc: 0.9719 - val_loss: 3.9632 - val_acc: 0.5268\n",
      "Epoch 70/100\n",
      "50000/50000 [==============================] - 12s 248us/step - loss: 0.0744 - acc: 0.9753 - val_loss: 4.0838 - val_acc: 0.5175\n",
      "Epoch 71/100\n",
      "50000/50000 [==============================] - 12s 249us/step - loss: 0.0930 - acc: 0.9694 - val_loss: 4.1131 - val_acc: 0.5177\n",
      "Epoch 72/100\n",
      "50000/50000 [==============================] - 13s 252us/step - loss: 0.0932 - acc: 0.9697 - val_loss: 4.0339 - val_acc: 0.5195\n",
      "Epoch 73/100\n",
      "50000/50000 [==============================] - 13s 252us/step - loss: 0.0946 - acc: 0.9697 - val_loss: 4.0177 - val_acc: 0.5205\n",
      "Epoch 74/100\n",
      "50000/50000 [==============================] - 13s 252us/step - loss: 0.0911 - acc: 0.9708 - val_loss: 4.0523 - val_acc: 0.5183\n",
      "Epoch 75/100\n",
      "50000/50000 [==============================] - 12s 249us/step - loss: 0.0837 - acc: 0.9726 - val_loss: 4.1173 - val_acc: 0.5151\n",
      "Epoch 76/100\n",
      "50000/50000 [==============================] - 12s 249us/step - loss: 0.1005 - acc: 0.9677 - val_loss: 4.0031 - val_acc: 0.5233\n",
      "Epoch 77/100\n",
      "50000/50000 [==============================] - 13s 252us/step - loss: 0.0699 - acc: 0.9772 - val_loss: 4.0541 - val_acc: 0.5199\n",
      "Epoch 78/100\n",
      "50000/50000 [==============================] - 14s 278us/step - loss: 0.0618 - acc: 0.9806 - val_loss: 4.1384 - val_acc: 0.5197\n",
      "Epoch 79/100\n",
      "50000/50000 [==============================] - 15s 302us/step - loss: 0.0761 - acc: 0.9753 - val_loss: 4.1865 - val_acc: 0.5145\n",
      "Epoch 80/100\n",
      "50000/50000 [==============================] - 14s 284us/step - loss: 0.1278 - acc: 0.9582 - val_loss: 4.0191 - val_acc: 0.5276\n",
      "Epoch 81/100\n",
      "50000/50000 [==============================] - 13s 267us/step - loss: 0.0681 - acc: 0.9776 - val_loss: 4.0563 - val_acc: 0.5288\n",
      "Epoch 82/100\n",
      "50000/50000 [==============================] - 13s 265us/step - loss: 0.0640 - acc: 0.9791 - val_loss: 4.2092 - val_acc: 0.5223\n",
      "Epoch 83/100\n",
      "50000/50000 [==============================] - 12s 248us/step - loss: 0.0781 - acc: 0.9744 - val_loss: 4.1841 - val_acc: 0.5221\n",
      "Epoch 84/100\n",
      "50000/50000 [==============================] - 14s 286us/step - loss: 0.1104 - acc: 0.9652 - val_loss: 4.0032 - val_acc: 0.5256\n",
      "Epoch 85/100\n",
      "50000/50000 [==============================] - 14s 286us/step - loss: 0.0746 - acc: 0.9762 - val_loss: 4.1057 - val_acc: 0.5199\n",
      "Epoch 86/100\n",
      "50000/50000 [==============================] - 13s 263us/step - loss: 0.0688 - acc: 0.9777 - val_loss: 4.1213 - val_acc: 0.5273\n",
      "Epoch 87/100\n",
      "50000/50000 [==============================] - 14s 284us/step - loss: 0.0775 - acc: 0.9755 - val_loss: 4.1016 - val_acc: 0.5218\n",
      "Epoch 88/100\n",
      "50000/50000 [==============================] - 13s 264us/step - loss: 0.0939 - acc: 0.9696 - val_loss: 4.0749 - val_acc: 0.5194\n",
      "Epoch 89/100\n",
      "50000/50000 [==============================] - 14s 288us/step - loss: 0.0639 - acc: 0.9792 - val_loss: 4.1009 - val_acc: 0.5260\n",
      "Epoch 90/100\n",
      "50000/50000 [==============================] - 13s 265us/step - loss: 0.0511 - acc: 0.9834 - val_loss: 4.1578 - val_acc: 0.5241\n",
      "Epoch 91/100\n",
      "50000/50000 [==============================] - 13s 254us/step - loss: 0.0656 - acc: 0.9793 - val_loss: 4.2395 - val_acc: 0.5228\n",
      "Epoch 92/100\n",
      "50000/50000 [==============================] - 14s 285us/step - loss: 0.0947 - acc: 0.9693 - val_loss: 4.1404 - val_acc: 0.5209\n",
      "Epoch 93/100\n",
      "50000/50000 [==============================] - 13s 261us/step - loss: 0.0851 - acc: 0.9722 - val_loss: 4.0815 - val_acc: 0.5242\n",
      "Epoch 94/100\n",
      "50000/50000 [==============================] - 14s 276us/step - loss: 0.0579 - acc: 0.9814 - val_loss: 4.1131 - val_acc: 0.5239\n",
      "Epoch 95/100\n",
      "50000/50000 [==============================] - 14s 275us/step - loss: 0.0627 - acc: 0.9794 - val_loss: 4.2356 - val_acc: 0.5209\n",
      "Epoch 96/100\n",
      "50000/50000 [==============================] - 13s 257us/step - loss: 0.0940 - acc: 0.9698 - val_loss: 4.0602 - val_acc: 0.5220\n",
      "Epoch 97/100\n",
      "50000/50000 [==============================] - 12s 243us/step - loss: 0.0793 - acc: 0.9747 - val_loss: 4.0779 - val_acc: 0.5275\n",
      "Epoch 98/100\n",
      "50000/50000 [==============================] - 12s 246us/step - loss: 0.0524 - acc: 0.9828 - val_loss: 4.2255 - val_acc: 0.5210\n",
      "Epoch 99/100\n",
      "50000/50000 [==============================] - 13s 261us/step - loss: 0.0461 - acc: 0.9853 - val_loss: 4.2390 - val_acc: 0.5241\n",
      "Epoch 100/100\n",
      "50000/50000 [==============================] - 13s 252us/step - loss: 0.0614 - acc: 0.9802 - val_loss: 4.2300 - val_acc: 0.5246\n"
     ]
    },
    {
     "data": {
      "text/plain": [
       "<keras.callbacks.History at 0x1afcbbca710>"
      ]
     },
     "execution_count": 13,
     "metadata": {},
     "output_type": "execute_result"
    }
   ],
   "source": [
    "# Homework 2\n",
    "model = build_mlp(input_shape=x_train.shape[1:], num_neurons=[512, 256, 128, 64, 32])\n",
    "model.summary()\n",
    "\n",
    "model.compile(loss=\"categorical_crossentropy\", metrics=[\"accuracy\"], optimizer=optimizer)\n",
    "model.fit(x_train, y_train, \n",
    "          epochs=EPOCHS, \n",
    "          batch_size=BATCH_SIZE, \n",
    "          validation_data=(x_test, y_test), \n",
    "          shuffle=True)"
   ]
  },
  {
   "cell_type": "code",
   "execution_count": 14,
   "metadata": {},
   "outputs": [
    {
     "data": {
      "image/png": "[encoded data removed]",
      "text/plain": [
       "<Figure size 432x288 with 1 Axes>"
      ]
     },
     "metadata": {
      "needs_background": "light"
     },
     "output_type": "display_data"
    }
   ],
   "source": [
    "train_loss = model.history.history[\"loss\"]\n",
    "valid_loss = model.history.history[\"val_loss\"]\n",
    "\n",
    "train_acc = model.history.history[\"acc\"]\n",
    "valid_acc = model.history.history[\"val_acc\"]\n",
    "\n",
    "plt.plot(range(len(train_loss)), train_loss, label=\"train loss\")\n",
    "plt.plot(range(len(valid_loss)), valid_loss, label=\"valid loss\")\n",
    "plt.legend()\n",
    "plt.title(\"Loss\")\n",
    "plt.show()"
   ]
  },
  {
   "cell_type": "code",
   "execution_count": 15,
   "metadata": {},
   "outputs": [
    {
     "data": {
      "image/png": "[encoded data removed]",
      "text/plain": [
       "<Figure size 432x288 with 1 Axes>"
      ]
     },
     "metadata": {
      "needs_background": "light"
     },
     "output_type": "display_data"
    }
   ],
   "source": [
    "plt.plot(range(len(train_acc)), train_acc, label=\"train accuracy\")\n",
    "plt.plot(range(len(valid_acc)), valid_acc, label=\"valid accuracy\")\n",
    "plt.legend()\n",
    "plt.title(\"Accuracy\")\n",
    "plt.show()"
   ]
  }
 ],
 "metadata": {
  "kernelspec": {
   "display_name": "Python 3",
   "language": "python",
   "name": "python3"
  },
  "language_info": {
   "codemirror_mode": {
    "name": "ipython",
    "version": 3
   },
   "file_extension": ".py",
   "mimetype": "text/x-python",
   "name": "python",
   "nbconvert_exporter": "python",
   "pygments_lexer": "ipython3",
   "version": "3.7.3"
  }
 },
 "nbformat": 4,
 "nbformat_minor": 2
}
